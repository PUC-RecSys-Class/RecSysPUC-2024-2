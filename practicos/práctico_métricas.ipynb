{
  "cells": [
    {
      "cell_type": "markdown",
      "source": [
        "\n",
        "#Práctico Métricas RecSys\n",
        "\n",
        "##Sistemas Recomendadores: IIC3633-1\n",
        "\n",
        "**Profesor**: Denis Parra\n",
        "\n",
        "**Ayudantes**:\n",
        "*   Alejandro Plaza\n",
        "*   Daniel Sebastian\n",
        "*   Pablo Messina\n",
        "*   Carlos Muñoz\n",
        "\n",
        "\n",
        "---\n",
        "\n"
      ],
      "metadata": {
        "id": "7-yRDTKLn4fJ"
      }
    },
    {
      "cell_type": "code",
      "execution_count": 2,
      "metadata": {
        "colab": {
          "base_uri": "https://localhost:8080/"
        },
        "outputId": "694ac02e-877b-44cf-8ffc-464b645d0cae",
        "id": "Om3JMIhJKU8y"
      },
      "outputs": [
        {
          "output_type": "stream",
          "name": "stdout",
          "text": [
            "Collecting pyreclab\n",
            "  Downloading pyreclab-0.1.16-cp310-cp310-manylinux2014_x86_64.whl.metadata (307 bytes)\n",
            "Downloading pyreclab-0.1.16-cp310-cp310-manylinux2014_x86_64.whl (267 kB)\n",
            "\u001b[?25l   \u001b[90m━━━━━━━━━━━━━━━━━━━━━━━━━━━━━━━━━━━━━━━━\u001b[0m \u001b[32m0.0/267.2 kB\u001b[0m \u001b[31m?\u001b[0m eta \u001b[36m-:--:--\u001b[0m\r\u001b[2K   \u001b[91m━━━━━━━━━━━━━━━━\u001b[0m\u001b[91m╸\u001b[0m\u001b[90m━━━━━━━━━━━━━━━━━━━━━━━\u001b[0m \u001b[32m112.6/267.2 kB\u001b[0m \u001b[31m3.1 MB/s\u001b[0m eta \u001b[36m0:00:01\u001b[0m\r\u001b[2K   \u001b[90m━━━━━━━━━━━━━━━━━━━━━━━━━━━━━━━━━━━━━━━━\u001b[0m \u001b[32m267.2/267.2 kB\u001b[0m \u001b[31m4.3 MB/s\u001b[0m eta \u001b[36m0:00:00\u001b[0m\n",
            "\u001b[?25hInstalling collected packages: pyreclab\n",
            "Successfully installed pyreclab-0.1.16\n"
          ]
        }
      ],
      "source": [
        "!pip install pyreclab --upgrade"
      ]
    },
    {
      "cell_type": "code",
      "execution_count": 3,
      "metadata": {
        "colab": {
          "base_uri": "https://localhost:8080/"
        },
        "outputId": "bd942e30-1e02-439a-df1e-5b86976b5948",
        "id": "MUdszwMaKU8y"
      },
      "outputs": [
        {
          "output_type": "stream",
          "name": "stdout",
          "text": [
            "Requirement already satisfied: psutil in /usr/local/lib/python3.10/dist-packages (5.9.5)\n"
          ]
        }
      ],
      "source": [
        "!pip install psutil"
      ]
    },
    {
      "cell_type": "code",
      "execution_count": 4,
      "metadata": {
        "colab": {
          "base_uri": "https://localhost:8080/"
        },
        "outputId": "dbd79988-92db-4bd6-e5f6-fc67167a00aa",
        "id": "RvfNQ9mDKU8y"
      },
      "outputs": [
        {
          "output_type": "stream",
          "name": "stdout",
          "text": [
            "Collecting implicit\n",
            "  Downloading implicit-0.7.2-cp310-cp310-manylinux2014_x86_64.whl.metadata (6.1 kB)\n",
            "Requirement already satisfied: numpy>=1.17.0 in /usr/local/lib/python3.10/dist-packages (from implicit) (1.26.4)\n",
            "Requirement already satisfied: scipy>=0.16 in /usr/local/lib/python3.10/dist-packages (from implicit) (1.13.1)\n",
            "Requirement already satisfied: tqdm>=4.27 in /usr/local/lib/python3.10/dist-packages (from implicit) (4.66.6)\n",
            "Requirement already satisfied: threadpoolctl in /usr/local/lib/python3.10/dist-packages (from implicit) (3.5.0)\n",
            "Downloading implicit-0.7.2-cp310-cp310-manylinux2014_x86_64.whl (8.9 MB)\n",
            "\u001b[2K   \u001b[90m━━━━━━━━━━━━━━━━━━━━━━━━━━━━━━━━━━━━━━━━\u001b[0m \u001b[32m8.9/8.9 MB\u001b[0m \u001b[31m37.0 MB/s\u001b[0m eta \u001b[36m0:00:00\u001b[0m\n",
            "\u001b[?25hInstalling collected packages: implicit\n",
            "Successfully installed implicit-0.7.2\n"
          ]
        }
      ],
      "source": [
        "!pip install implicit"
      ]
    },
    {
      "cell_type": "code",
      "execution_count": 5,
      "metadata": {
        "id": "qA5uKUz5KP5n"
      },
      "outputs": [],
      "source": [
        "import pandas as pd\n",
        "import pyreclab\n",
        "import numpy as np\n",
        "import scipy.sparse as sparse\n",
        "import implicit\n",
        "import psutil\n",
        "import time\n",
        "from sklearn.model_selection import train_test_split\n",
        "\n",
        "%matplotlib inline"
      ]
    },
    {
      "cell_type": "markdown",
      "source": [
        "### 2. Calculando métricas básicas en RecSys"
      ],
      "metadata": {
        "id": "dU_e8TJxW2QO"
      }
    },
    {
      "cell_type": "markdown",
      "metadata": {
        "id": "t9SWZq_x36O-"
      },
      "source": [
        "###### Carga de datasets"
      ]
    },
    {
      "cell_type": "code",
      "source": [
        "# https://drive.google.com/file/d/1iSmfQILS96JTEgyZn12xlEaay_ybmlLd/view?usp=drive_link\n",
        "!gdown \"1iSmfQILS96JTEgyZn12xlEaay_ybmlLd\""
      ],
      "metadata": {
        "id": "jJkzE6H-Nmzh",
        "outputId": "ab8306dd-085f-42bd-9aad-8b4c8e2accc9",
        "colab": {
          "base_uri": "https://localhost:8080/"
        }
      },
      "execution_count": 7,
      "outputs": [
        {
          "output_type": "stream",
          "name": "stdout",
          "text": [
            "Downloading...\n",
            "From: https://drive.google.com/uc?id=1iSmfQILS96JTEgyZn12xlEaay_ybmlLd\n",
            "To: /content/validation_set.csv\n",
            "\r  0% 0.00/134k [00:00<?, ?B/s]\r100% 134k/134k [00:00<00:00, 63.8MB/s]\n"
          ]
        }
      ]
    },
    {
      "cell_type": "code",
      "source": [
        "# https://drive.google.com/file/d/1lGOYtDD0fXagZ8jaHL6akZMN8caTgzpl/view?usp=drive_link\n",
        "!gdown \"1lGOYtDD0fXagZ8jaHL6akZMN8caTgzpl\""
      ],
      "metadata": {
        "id": "Xntz23zIQYnL",
        "outputId": "d70635bb-dd59-4fb3-f970-df125a31bf9a",
        "colab": {
          "base_uri": "https://localhost:8080/"
        }
      },
      "execution_count": 8,
      "outputs": [
        {
          "output_type": "stream",
          "name": "stdout",
          "text": [
            "Downloading...\n",
            "From: https://drive.google.com/uc?id=1lGOYtDD0fXagZ8jaHL6akZMN8caTgzpl\n",
            "To: /content/training_set.csv\n",
            "\r  0% 0.00/706k [00:00<?, ?B/s]\r100% 706k/706k [00:00<00:00, 87.2MB/s]\n"
          ]
        }
      ]
    },
    {
      "cell_type": "code",
      "source": [
        "# https://drive.google.com/file/d/1jz8_LLDrtW2Vsn965wMAvhd9owPF2eSu/view?usp=drive_link\n",
        "!gdown \"1jz8_LLDrtW2Vsn965wMAvhd9owPF2eSu\""
      ],
      "metadata": {
        "id": "UXp2LQIRQfnL",
        "outputId": "883aa15a-1600-43a5-f267-ac59c0ae4bd4",
        "colab": {
          "base_uri": "https://localhost:8080/"
        }
      },
      "execution_count": 9,
      "outputs": [
        {
          "output_type": "stream",
          "name": "stdout",
          "text": [
            "Downloading...\n",
            "From: https://drive.google.com/uc?id=1jz8_LLDrtW2Vsn965wMAvhd9owPF2eSu\n",
            "To: /content/items_styles.csv\n",
            "\r  0% 0.00/19.9k [00:00<?, ?B/s]\r100% 19.9k/19.9k [00:00<00:00, 46.5MB/s]\n"
          ]
        }
      ]
    },
    {
      "cell_type": "code",
      "execution_count": 10,
      "metadata": {
        "id": "e2uHbeTQ36O_"
      },
      "outputs": [],
      "source": [
        "trainfile =  pd.read_csv('training_set.csv')\n",
        "validfile =  pd.read_csv('validation_set.csv')\n",
        "items_styles = pd.read_csv('items_styles.csv')"
      ]
    },
    {
      "cell_type": "markdown",
      "metadata": {
        "id": "WqtKp6j636O_"
      },
      "source": [
        "Antes de recomendar siempre hay que realizar un análisis de datos."
      ]
    },
    {
      "cell_type": "code",
      "execution_count": 11,
      "metadata": {
        "colab": {
          "base_uri": "https://localhost:8080/",
          "height": 206
        },
        "outputId": "f1578d8c-69a6-4a51-bdd7-320e9c12cc0a",
        "id": "hI1nHLo-36O_"
      },
      "outputs": [
        {
          "output_type": "execute_result",
          "data": {
            "text/plain": [
              "   userID  itemID  styleID  rating\n",
              "0       4   54827     1199     4.0\n",
              "1    1214   10784     1075     4.0\n",
              "2    5104   48911     1199     3.5\n",
              "3    1623   16074     1199     4.0\n",
              "4    1780   19960     1199     5.0"
            ],
            "text/html": [
              "\n",
              "  <div id=\"df-ed2ce9ec-cf82-4067-8299-7a6c615c2fef\" class=\"colab-df-container\">\n",
              "    <div>\n",
              "<style scoped>\n",
              "    .dataframe tbody tr th:only-of-type {\n",
              "        vertical-align: middle;\n",
              "    }\n",
              "\n",
              "    .dataframe tbody tr th {\n",
              "        vertical-align: top;\n",
              "    }\n",
              "\n",
              "    .dataframe thead th {\n",
              "        text-align: right;\n",
              "    }\n",
              "</style>\n",
              "<table border=\"1\" class=\"dataframe\">\n",
              "  <thead>\n",
              "    <tr style=\"text-align: right;\">\n",
              "      <th></th>\n",
              "      <th>userID</th>\n",
              "      <th>itemID</th>\n",
              "      <th>styleID</th>\n",
              "      <th>rating</th>\n",
              "    </tr>\n",
              "  </thead>\n",
              "  <tbody>\n",
              "    <tr>\n",
              "      <th>0</th>\n",
              "      <td>4</td>\n",
              "      <td>54827</td>\n",
              "      <td>1199</td>\n",
              "      <td>4.0</td>\n",
              "    </tr>\n",
              "    <tr>\n",
              "      <th>1</th>\n",
              "      <td>1214</td>\n",
              "      <td>10784</td>\n",
              "      <td>1075</td>\n",
              "      <td>4.0</td>\n",
              "    </tr>\n",
              "    <tr>\n",
              "      <th>2</th>\n",
              "      <td>5104</td>\n",
              "      <td>48911</td>\n",
              "      <td>1199</td>\n",
              "      <td>3.5</td>\n",
              "    </tr>\n",
              "    <tr>\n",
              "      <th>3</th>\n",
              "      <td>1623</td>\n",
              "      <td>16074</td>\n",
              "      <td>1199</td>\n",
              "      <td>4.0</td>\n",
              "    </tr>\n",
              "    <tr>\n",
              "      <th>4</th>\n",
              "      <td>1780</td>\n",
              "      <td>19960</td>\n",
              "      <td>1199</td>\n",
              "      <td>5.0</td>\n",
              "    </tr>\n",
              "  </tbody>\n",
              "</table>\n",
              "</div>\n",
              "    <div class=\"colab-df-buttons\">\n",
              "\n",
              "  <div class=\"colab-df-container\">\n",
              "    <button class=\"colab-df-convert\" onclick=\"convertToInteractive('df-ed2ce9ec-cf82-4067-8299-7a6c615c2fef')\"\n",
              "            title=\"Convert this dataframe to an interactive table.\"\n",
              "            style=\"display:none;\">\n",
              "\n",
              "  <svg xmlns=\"http://www.w3.org/2000/svg\" height=\"24px\" viewBox=\"0 -960 960 960\">\n",
              "    <path d=\"M120-120v-720h720v720H120Zm60-500h600v-160H180v160Zm220 220h160v-160H400v160Zm0 220h160v-160H400v160ZM180-400h160v-160H180v160Zm440 0h160v-160H620v160ZM180-180h160v-160H180v160Zm440 0h160v-160H620v160Z\"/>\n",
              "  </svg>\n",
              "    </button>\n",
              "\n",
              "  <style>\n",
              "    .colab-df-container {\n",
              "      display:flex;\n",
              "      gap: 12px;\n",
              "    }\n",
              "\n",
              "    .colab-df-convert {\n",
              "      background-color: #E8F0FE;\n",
              "      border: none;\n",
              "      border-radius: 50%;\n",
              "      cursor: pointer;\n",
              "      display: none;\n",
              "      fill: #1967D2;\n",
              "      height: 32px;\n",
              "      padding: 0 0 0 0;\n",
              "      width: 32px;\n",
              "    }\n",
              "\n",
              "    .colab-df-convert:hover {\n",
              "      background-color: #E2EBFA;\n",
              "      box-shadow: 0px 1px 2px rgba(60, 64, 67, 0.3), 0px 1px 3px 1px rgba(60, 64, 67, 0.15);\n",
              "      fill: #174EA6;\n",
              "    }\n",
              "\n",
              "    .colab-df-buttons div {\n",
              "      margin-bottom: 4px;\n",
              "    }\n",
              "\n",
              "    [theme=dark] .colab-df-convert {\n",
              "      background-color: #3B4455;\n",
              "      fill: #D2E3FC;\n",
              "    }\n",
              "\n",
              "    [theme=dark] .colab-df-convert:hover {\n",
              "      background-color: #434B5C;\n",
              "      box-shadow: 0px 1px 3px 1px rgba(0, 0, 0, 0.15);\n",
              "      filter: drop-shadow(0px 1px 2px rgba(0, 0, 0, 0.3));\n",
              "      fill: #FFFFFF;\n",
              "    }\n",
              "  </style>\n",
              "\n",
              "    <script>\n",
              "      const buttonEl =\n",
              "        document.querySelector('#df-ed2ce9ec-cf82-4067-8299-7a6c615c2fef button.colab-df-convert');\n",
              "      buttonEl.style.display =\n",
              "        google.colab.kernel.accessAllowed ? 'block' : 'none';\n",
              "\n",
              "      async function convertToInteractive(key) {\n",
              "        const element = document.querySelector('#df-ed2ce9ec-cf82-4067-8299-7a6c615c2fef');\n",
              "        const dataTable =\n",
              "          await google.colab.kernel.invokeFunction('convertToInteractive',\n",
              "                                                    [key], {});\n",
              "        if (!dataTable) return;\n",
              "\n",
              "        const docLinkHtml = 'Like what you see? Visit the ' +\n",
              "          '<a target=\"_blank\" href=https://colab.research.google.com/notebooks/data_table.ipynb>data table notebook</a>'\n",
              "          + ' to learn more about interactive tables.';\n",
              "        element.innerHTML = '';\n",
              "        dataTable['output_type'] = 'display_data';\n",
              "        await google.colab.output.renderOutput(dataTable, element);\n",
              "        const docLink = document.createElement('div');\n",
              "        docLink.innerHTML = docLinkHtml;\n",
              "        element.appendChild(docLink);\n",
              "      }\n",
              "    </script>\n",
              "  </div>\n",
              "\n",
              "\n",
              "<div id=\"df-0a9ce7b1-1d76-427f-b822-d69fc25ffb4c\">\n",
              "  <button class=\"colab-df-quickchart\" onclick=\"quickchart('df-0a9ce7b1-1d76-427f-b822-d69fc25ffb4c')\"\n",
              "            title=\"Suggest charts\"\n",
              "            style=\"display:none;\">\n",
              "\n",
              "<svg xmlns=\"http://www.w3.org/2000/svg\" height=\"24px\"viewBox=\"0 0 24 24\"\n",
              "     width=\"24px\">\n",
              "    <g>\n",
              "        <path d=\"M19 3H5c-1.1 0-2 .9-2 2v14c0 1.1.9 2 2 2h14c1.1 0 2-.9 2-2V5c0-1.1-.9-2-2-2zM9 17H7v-7h2v7zm4 0h-2V7h2v10zm4 0h-2v-4h2v4z\"/>\n",
              "    </g>\n",
              "</svg>\n",
              "  </button>\n",
              "\n",
              "<style>\n",
              "  .colab-df-quickchart {\n",
              "      --bg-color: #E8F0FE;\n",
              "      --fill-color: #1967D2;\n",
              "      --hover-bg-color: #E2EBFA;\n",
              "      --hover-fill-color: #174EA6;\n",
              "      --disabled-fill-color: #AAA;\n",
              "      --disabled-bg-color: #DDD;\n",
              "  }\n",
              "\n",
              "  [theme=dark] .colab-df-quickchart {\n",
              "      --bg-color: #3B4455;\n",
              "      --fill-color: #D2E3FC;\n",
              "      --hover-bg-color: #434B5C;\n",
              "      --hover-fill-color: #FFFFFF;\n",
              "      --disabled-bg-color: #3B4455;\n",
              "      --disabled-fill-color: #666;\n",
              "  }\n",
              "\n",
              "  .colab-df-quickchart {\n",
              "    background-color: var(--bg-color);\n",
              "    border: none;\n",
              "    border-radius: 50%;\n",
              "    cursor: pointer;\n",
              "    display: none;\n",
              "    fill: var(--fill-color);\n",
              "    height: 32px;\n",
              "    padding: 0;\n",
              "    width: 32px;\n",
              "  }\n",
              "\n",
              "  .colab-df-quickchart:hover {\n",
              "    background-color: var(--hover-bg-color);\n",
              "    box-shadow: 0 1px 2px rgba(60, 64, 67, 0.3), 0 1px 3px 1px rgba(60, 64, 67, 0.15);\n",
              "    fill: var(--button-hover-fill-color);\n",
              "  }\n",
              "\n",
              "  .colab-df-quickchart-complete:disabled,\n",
              "  .colab-df-quickchart-complete:disabled:hover {\n",
              "    background-color: var(--disabled-bg-color);\n",
              "    fill: var(--disabled-fill-color);\n",
              "    box-shadow: none;\n",
              "  }\n",
              "\n",
              "  .colab-df-spinner {\n",
              "    border: 2px solid var(--fill-color);\n",
              "    border-color: transparent;\n",
              "    border-bottom-color: var(--fill-color);\n",
              "    animation:\n",
              "      spin 1s steps(1) infinite;\n",
              "  }\n",
              "\n",
              "  @keyframes spin {\n",
              "    0% {\n",
              "      border-color: transparent;\n",
              "      border-bottom-color: var(--fill-color);\n",
              "      border-left-color: var(--fill-color);\n",
              "    }\n",
              "    20% {\n",
              "      border-color: transparent;\n",
              "      border-left-color: var(--fill-color);\n",
              "      border-top-color: var(--fill-color);\n",
              "    }\n",
              "    30% {\n",
              "      border-color: transparent;\n",
              "      border-left-color: var(--fill-color);\n",
              "      border-top-color: var(--fill-color);\n",
              "      border-right-color: var(--fill-color);\n",
              "    }\n",
              "    40% {\n",
              "      border-color: transparent;\n",
              "      border-right-color: var(--fill-color);\n",
              "      border-top-color: var(--fill-color);\n",
              "    }\n",
              "    60% {\n",
              "      border-color: transparent;\n",
              "      border-right-color: var(--fill-color);\n",
              "    }\n",
              "    80% {\n",
              "      border-color: transparent;\n",
              "      border-right-color: var(--fill-color);\n",
              "      border-bottom-color: var(--fill-color);\n",
              "    }\n",
              "    90% {\n",
              "      border-color: transparent;\n",
              "      border-bottom-color: var(--fill-color);\n",
              "    }\n",
              "  }\n",
              "</style>\n",
              "\n",
              "  <script>\n",
              "    async function quickchart(key) {\n",
              "      const quickchartButtonEl =\n",
              "        document.querySelector('#' + key + ' button');\n",
              "      quickchartButtonEl.disabled = true;  // To prevent multiple clicks.\n",
              "      quickchartButtonEl.classList.add('colab-df-spinner');\n",
              "      try {\n",
              "        const charts = await google.colab.kernel.invokeFunction(\n",
              "            'suggestCharts', [key], {});\n",
              "      } catch (error) {\n",
              "        console.error('Error during call to suggestCharts:', error);\n",
              "      }\n",
              "      quickchartButtonEl.classList.remove('colab-df-spinner');\n",
              "      quickchartButtonEl.classList.add('colab-df-quickchart-complete');\n",
              "    }\n",
              "    (() => {\n",
              "      let quickchartButtonEl =\n",
              "        document.querySelector('#df-0a9ce7b1-1d76-427f-b822-d69fc25ffb4c button');\n",
              "      quickchartButtonEl.style.display =\n",
              "        google.colab.kernel.accessAllowed ? 'block' : 'none';\n",
              "    })();\n",
              "  </script>\n",
              "</div>\n",
              "\n",
              "    </div>\n",
              "  </div>\n"
            ],
            "application/vnd.google.colaboratory.intrinsic+json": {
              "type": "dataframe",
              "variable_name": "trainfile",
              "summary": "{\n  \"name\": \"trainfile\",\n  \"rows\": 37152,\n  \"fields\": [\n    {\n      \"column\": \"userID\",\n      \"properties\": {\n        \"dtype\": \"number\",\n        \"std\": 2406,\n        \"min\": 1,\n        \"max\": 8320,\n        \"num_unique_values\": 8320,\n        \"samples\": [\n          3785,\n          1105,\n          1054\n        ],\n        \"semantic_type\": \"\",\n        \"description\": \"\"\n      }\n    },\n    {\n      \"column\": \"itemID\",\n      \"properties\": {\n        \"dtype\": \"number\",\n        \"std\": 18474,\n        \"min\": 175,\n        \"max\": 77207,\n        \"num_unique_values\": 1700,\n        \"samples\": [\n          61938,\n          47241,\n          2719\n        ],\n        \"semantic_type\": \"\",\n        \"description\": \"\"\n      }\n    },\n    {\n      \"column\": \"styleID\",\n      \"properties\": {\n        \"dtype\": \"number\",\n        \"std\": 5007,\n        \"min\": 1,\n        \"max\": 27797,\n        \"num_unique_values\": 205,\n        \"samples\": [\n          12224,\n          568,\n          2850\n        ],\n        \"semantic_type\": \"\",\n        \"description\": \"\"\n      }\n    },\n    {\n      \"column\": \"rating\",\n      \"properties\": {\n        \"dtype\": \"number\",\n        \"std\": 0.7148048229488626,\n        \"min\": 0.0,\n        \"max\": 5.0,\n        \"num_unique_values\": 10,\n        \"samples\": [\n          1.5,\n          3.5,\n          2.5\n        ],\n        \"semantic_type\": \"\",\n        \"description\": \"\"\n      }\n    }\n  ]\n}"
            }
          },
          "metadata": {},
          "execution_count": 11
        }
      ],
      "source": [
        "trainfile.head()"
      ]
    },
    {
      "cell_type": "code",
      "source": [
        "validfile.head()"
      ],
      "metadata": {
        "id": "071ODZfu1uAX",
        "outputId": "7202a9f4-f9cd-4096-ebef-d7aa4b652835",
        "colab": {
          "base_uri": "https://localhost:8080/",
          "height": 206
        }
      },
      "execution_count": 12,
      "outputs": [
        {
          "output_type": "execute_result",
          "data": {
            "text/plain": [
              "   userID  itemID  styleID  rating\n",
              "0    1823   48911     1199     4.0\n",
              "1    5683   17538     1199     4.0\n",
              "2     338   11757     1199     4.5\n",
              "3    6414    1122      395     4.5\n",
              "4    7115   13350     3268     2.0"
            ],
            "text/html": [
              "\n",
              "  <div id=\"df-9fce5219-be36-4a65-bcb4-218246a3e3ff\" class=\"colab-df-container\">\n",
              "    <div>\n",
              "<style scoped>\n",
              "    .dataframe tbody tr th:only-of-type {\n",
              "        vertical-align: middle;\n",
              "    }\n",
              "\n",
              "    .dataframe tbody tr th {\n",
              "        vertical-align: top;\n",
              "    }\n",
              "\n",
              "    .dataframe thead th {\n",
              "        text-align: right;\n",
              "    }\n",
              "</style>\n",
              "<table border=\"1\" class=\"dataframe\">\n",
              "  <thead>\n",
              "    <tr style=\"text-align: right;\">\n",
              "      <th></th>\n",
              "      <th>userID</th>\n",
              "      <th>itemID</th>\n",
              "      <th>styleID</th>\n",
              "      <th>rating</th>\n",
              "    </tr>\n",
              "  </thead>\n",
              "  <tbody>\n",
              "    <tr>\n",
              "      <th>0</th>\n",
              "      <td>1823</td>\n",
              "      <td>48911</td>\n",
              "      <td>1199</td>\n",
              "      <td>4.0</td>\n",
              "    </tr>\n",
              "    <tr>\n",
              "      <th>1</th>\n",
              "      <td>5683</td>\n",
              "      <td>17538</td>\n",
              "      <td>1199</td>\n",
              "      <td>4.0</td>\n",
              "    </tr>\n",
              "    <tr>\n",
              "      <th>2</th>\n",
              "      <td>338</td>\n",
              "      <td>11757</td>\n",
              "      <td>1199</td>\n",
              "      <td>4.5</td>\n",
              "    </tr>\n",
              "    <tr>\n",
              "      <th>3</th>\n",
              "      <td>6414</td>\n",
              "      <td>1122</td>\n",
              "      <td>395</td>\n",
              "      <td>4.5</td>\n",
              "    </tr>\n",
              "    <tr>\n",
              "      <th>4</th>\n",
              "      <td>7115</td>\n",
              "      <td>13350</td>\n",
              "      <td>3268</td>\n",
              "      <td>2.0</td>\n",
              "    </tr>\n",
              "  </tbody>\n",
              "</table>\n",
              "</div>\n",
              "    <div class=\"colab-df-buttons\">\n",
              "\n",
              "  <div class=\"colab-df-container\">\n",
              "    <button class=\"colab-df-convert\" onclick=\"convertToInteractive('df-9fce5219-be36-4a65-bcb4-218246a3e3ff')\"\n",
              "            title=\"Convert this dataframe to an interactive table.\"\n",
              "            style=\"display:none;\">\n",
              "\n",
              "  <svg xmlns=\"http://www.w3.org/2000/svg\" height=\"24px\" viewBox=\"0 -960 960 960\">\n",
              "    <path d=\"M120-120v-720h720v720H120Zm60-500h600v-160H180v160Zm220 220h160v-160H400v160Zm0 220h160v-160H400v160ZM180-400h160v-160H180v160Zm440 0h160v-160H620v160ZM180-180h160v-160H180v160Zm440 0h160v-160H620v160Z\"/>\n",
              "  </svg>\n",
              "    </button>\n",
              "\n",
              "  <style>\n",
              "    .colab-df-container {\n",
              "      display:flex;\n",
              "      gap: 12px;\n",
              "    }\n",
              "\n",
              "    .colab-df-convert {\n",
              "      background-color: #E8F0FE;\n",
              "      border: none;\n",
              "      border-radius: 50%;\n",
              "      cursor: pointer;\n",
              "      display: none;\n",
              "      fill: #1967D2;\n",
              "      height: 32px;\n",
              "      padding: 0 0 0 0;\n",
              "      width: 32px;\n",
              "    }\n",
              "\n",
              "    .colab-df-convert:hover {\n",
              "      background-color: #E2EBFA;\n",
              "      box-shadow: 0px 1px 2px rgba(60, 64, 67, 0.3), 0px 1px 3px 1px rgba(60, 64, 67, 0.15);\n",
              "      fill: #174EA6;\n",
              "    }\n",
              "\n",
              "    .colab-df-buttons div {\n",
              "      margin-bottom: 4px;\n",
              "    }\n",
              "\n",
              "    [theme=dark] .colab-df-convert {\n",
              "      background-color: #3B4455;\n",
              "      fill: #D2E3FC;\n",
              "    }\n",
              "\n",
              "    [theme=dark] .colab-df-convert:hover {\n",
              "      background-color: #434B5C;\n",
              "      box-shadow: 0px 1px 3px 1px rgba(0, 0, 0, 0.15);\n",
              "      filter: drop-shadow(0px 1px 2px rgba(0, 0, 0, 0.3));\n",
              "      fill: #FFFFFF;\n",
              "    }\n",
              "  </style>\n",
              "\n",
              "    <script>\n",
              "      const buttonEl =\n",
              "        document.querySelector('#df-9fce5219-be36-4a65-bcb4-218246a3e3ff button.colab-df-convert');\n",
              "      buttonEl.style.display =\n",
              "        google.colab.kernel.accessAllowed ? 'block' : 'none';\n",
              "\n",
              "      async function convertToInteractive(key) {\n",
              "        const element = document.querySelector('#df-9fce5219-be36-4a65-bcb4-218246a3e3ff');\n",
              "        const dataTable =\n",
              "          await google.colab.kernel.invokeFunction('convertToInteractive',\n",
              "                                                    [key], {});\n",
              "        if (!dataTable) return;\n",
              "\n",
              "        const docLinkHtml = 'Like what you see? Visit the ' +\n",
              "          '<a target=\"_blank\" href=https://colab.research.google.com/notebooks/data_table.ipynb>data table notebook</a>'\n",
              "          + ' to learn more about interactive tables.';\n",
              "        element.innerHTML = '';\n",
              "        dataTable['output_type'] = 'display_data';\n",
              "        await google.colab.output.renderOutput(dataTable, element);\n",
              "        const docLink = document.createElement('div');\n",
              "        docLink.innerHTML = docLinkHtml;\n",
              "        element.appendChild(docLink);\n",
              "      }\n",
              "    </script>\n",
              "  </div>\n",
              "\n",
              "\n",
              "<div id=\"df-fea43c38-1431-4776-8fce-8823b8873d48\">\n",
              "  <button class=\"colab-df-quickchart\" onclick=\"quickchart('df-fea43c38-1431-4776-8fce-8823b8873d48')\"\n",
              "            title=\"Suggest charts\"\n",
              "            style=\"display:none;\">\n",
              "\n",
              "<svg xmlns=\"http://www.w3.org/2000/svg\" height=\"24px\"viewBox=\"0 0 24 24\"\n",
              "     width=\"24px\">\n",
              "    <g>\n",
              "        <path d=\"M19 3H5c-1.1 0-2 .9-2 2v14c0 1.1.9 2 2 2h14c1.1 0 2-.9 2-2V5c0-1.1-.9-2-2-2zM9 17H7v-7h2v7zm4 0h-2V7h2v10zm4 0h-2v-4h2v4z\"/>\n",
              "    </g>\n",
              "</svg>\n",
              "  </button>\n",
              "\n",
              "<style>\n",
              "  .colab-df-quickchart {\n",
              "      --bg-color: #E8F0FE;\n",
              "      --fill-color: #1967D2;\n",
              "      --hover-bg-color: #E2EBFA;\n",
              "      --hover-fill-color: #174EA6;\n",
              "      --disabled-fill-color: #AAA;\n",
              "      --disabled-bg-color: #DDD;\n",
              "  }\n",
              "\n",
              "  [theme=dark] .colab-df-quickchart {\n",
              "      --bg-color: #3B4455;\n",
              "      --fill-color: #D2E3FC;\n",
              "      --hover-bg-color: #434B5C;\n",
              "      --hover-fill-color: #FFFFFF;\n",
              "      --disabled-bg-color: #3B4455;\n",
              "      --disabled-fill-color: #666;\n",
              "  }\n",
              "\n",
              "  .colab-df-quickchart {\n",
              "    background-color: var(--bg-color);\n",
              "    border: none;\n",
              "    border-radius: 50%;\n",
              "    cursor: pointer;\n",
              "    display: none;\n",
              "    fill: var(--fill-color);\n",
              "    height: 32px;\n",
              "    padding: 0;\n",
              "    width: 32px;\n",
              "  }\n",
              "\n",
              "  .colab-df-quickchart:hover {\n",
              "    background-color: var(--hover-bg-color);\n",
              "    box-shadow: 0 1px 2px rgba(60, 64, 67, 0.3), 0 1px 3px 1px rgba(60, 64, 67, 0.15);\n",
              "    fill: var(--button-hover-fill-color);\n",
              "  }\n",
              "\n",
              "  .colab-df-quickchart-complete:disabled,\n",
              "  .colab-df-quickchart-complete:disabled:hover {\n",
              "    background-color: var(--disabled-bg-color);\n",
              "    fill: var(--disabled-fill-color);\n",
              "    box-shadow: none;\n",
              "  }\n",
              "\n",
              "  .colab-df-spinner {\n",
              "    border: 2px solid var(--fill-color);\n",
              "    border-color: transparent;\n",
              "    border-bottom-color: var(--fill-color);\n",
              "    animation:\n",
              "      spin 1s steps(1) infinite;\n",
              "  }\n",
              "\n",
              "  @keyframes spin {\n",
              "    0% {\n",
              "      border-color: transparent;\n",
              "      border-bottom-color: var(--fill-color);\n",
              "      border-left-color: var(--fill-color);\n",
              "    }\n",
              "    20% {\n",
              "      border-color: transparent;\n",
              "      border-left-color: var(--fill-color);\n",
              "      border-top-color: var(--fill-color);\n",
              "    }\n",
              "    30% {\n",
              "      border-color: transparent;\n",
              "      border-left-color: var(--fill-color);\n",
              "      border-top-color: var(--fill-color);\n",
              "      border-right-color: var(--fill-color);\n",
              "    }\n",
              "    40% {\n",
              "      border-color: transparent;\n",
              "      border-right-color: var(--fill-color);\n",
              "      border-top-color: var(--fill-color);\n",
              "    }\n",
              "    60% {\n",
              "      border-color: transparent;\n",
              "      border-right-color: var(--fill-color);\n",
              "    }\n",
              "    80% {\n",
              "      border-color: transparent;\n",
              "      border-right-color: var(--fill-color);\n",
              "      border-bottom-color: var(--fill-color);\n",
              "    }\n",
              "    90% {\n",
              "      border-color: transparent;\n",
              "      border-bottom-color: var(--fill-color);\n",
              "    }\n",
              "  }\n",
              "</style>\n",
              "\n",
              "  <script>\n",
              "    async function quickchart(key) {\n",
              "      const quickchartButtonEl =\n",
              "        document.querySelector('#' + key + ' button');\n",
              "      quickchartButtonEl.disabled = true;  // To prevent multiple clicks.\n",
              "      quickchartButtonEl.classList.add('colab-df-spinner');\n",
              "      try {\n",
              "        const charts = await google.colab.kernel.invokeFunction(\n",
              "            'suggestCharts', [key], {});\n",
              "      } catch (error) {\n",
              "        console.error('Error during call to suggestCharts:', error);\n",
              "      }\n",
              "      quickchartButtonEl.classList.remove('colab-df-spinner');\n",
              "      quickchartButtonEl.classList.add('colab-df-quickchart-complete');\n",
              "    }\n",
              "    (() => {\n",
              "      let quickchartButtonEl =\n",
              "        document.querySelector('#df-fea43c38-1431-4776-8fce-8823b8873d48 button');\n",
              "      quickchartButtonEl.style.display =\n",
              "        google.colab.kernel.accessAllowed ? 'block' : 'none';\n",
              "    })();\n",
              "  </script>\n",
              "</div>\n",
              "\n",
              "    </div>\n",
              "  </div>\n"
            ],
            "application/vnd.google.colaboratory.intrinsic+json": {
              "type": "dataframe",
              "variable_name": "validfile",
              "summary": "{\n  \"name\": \"validfile\",\n  \"rows\": 7083,\n  \"fields\": [\n    {\n      \"column\": \"userID\",\n      \"properties\": {\n        \"dtype\": \"number\",\n        \"std\": 2289,\n        \"min\": 1,\n        \"max\": 8298,\n        \"num_unique_values\": 1790,\n        \"samples\": [\n          387,\n          6560,\n          5091\n        ],\n        \"semantic_type\": \"\",\n        \"description\": \"\"\n      }\n    },\n    {\n      \"column\": \"itemID\",\n      \"properties\": {\n        \"dtype\": \"number\",\n        \"std\": 18543,\n        \"min\": 175,\n        \"max\": 76995,\n        \"num_unique_values\": 763,\n        \"samples\": [\n          54908,\n          59125,\n          48148\n        ],\n        \"semantic_type\": \"\",\n        \"description\": \"\"\n      }\n    },\n    {\n      \"column\": \"styleID\",\n      \"properties\": {\n        \"dtype\": \"number\",\n        \"std\": 5042,\n        \"min\": 1,\n        \"max\": 26990,\n        \"num_unique_values\": 122,\n        \"samples\": [\n          1075,\n          453,\n          5500\n        ],\n        \"semantic_type\": \"\",\n        \"description\": \"\"\n      }\n    },\n    {\n      \"column\": \"rating\",\n      \"properties\": {\n        \"dtype\": \"number\",\n        \"std\": 0.6984070374883123,\n        \"min\": 0.0,\n        \"max\": 5.0,\n        \"num_unique_values\": 10,\n        \"samples\": [\n          1.5,\n          4.5,\n          5.0\n        ],\n        \"semantic_type\": \"\",\n        \"description\": \"\"\n      }\n    }\n  ]\n}"
            }
          },
          "metadata": {},
          "execution_count": 12
        }
      ]
    },
    {
      "cell_type": "markdown",
      "source": [
        "###### Matriz de interacciones usuario-ítem"
      ],
      "metadata": {
        "id": "d9aLPelr4pbo"
      }
    },
    {
      "cell_type": "markdown",
      "source": [
        "Para este práctico se usará como ejemplo FunkSVD y ALS, sin embargo,pueden realizar el análisis para todos los algoritmos vistos en clases."
      ],
      "metadata": {
        "id": "CQru6pyr4rZP"
      }
    },
    {
      "cell_type": "code",
      "execution_count": 13,
      "metadata": {
        "id": "-VmkjO1T5NEI"
      },
      "outputs": [],
      "source": [
        "user_items = {}\n",
        "itemset = set()\n",
        "\n",
        "for row in trainfile.itertuples():\n",
        "    if row[1] not in user_items:\n",
        "        user_items[row[1]] = []\n",
        "\n",
        "    user_items[row[1]].append(row[2])\n",
        "    itemset.add(row[2])\n",
        "\n",
        "itemset = np.sort(list(itemset))\n",
        "\n",
        "sparse_matrix = np.zeros((len(user_items), len(itemset)))\n",
        "\n",
        "for i, items in enumerate(user_items.values()):\n",
        "    sparse_matrix[i] = np.isin(itemset, items, assume_unique=True).astype(int)\n",
        "\n",
        "matrix = sparse.csr_matrix(sparse_matrix.T)\n",
        "\n",
        "user_item_matrix = matrix.T.tocsr()\n",
        "\n",
        "original_user_id_to_compact = {key: i for i, key in enumerate(user_items.keys())}\n",
        "original_item_id_to_compact = {key: i for i, key in enumerate(itemset)}"
      ]
    },
    {
      "cell_type": "code",
      "source": [
        "user_to_min_rating = { u:r for u, r in trainfile.groupby('userID')['rating'].min().items() }\n",
        "user_to_max_rating = { u:r for u, r in trainfile.groupby('userID')['rating'].max().items() }"
      ],
      "metadata": {
        "id": "OKds2I3hEr9W"
      },
      "execution_count": 25,
      "outputs": []
    },
    {
      "cell_type": "markdown",
      "source": [
        "###### Entrenamiento modelos RecSys: FunkSVD & ALS"
      ],
      "metadata": {
        "id": "qtiIM3yB5j2g"
      }
    },
    {
      "cell_type": "code",
      "source": [
        "svd = pyreclab.SVD(dataset='training_set.csv', dlmchar=b',', header=False, usercol=0, itemcol=1, ratingcol=3)\n",
        "svd.train(factors=100, maxiter=100, lr=0.01, lamb=0.1)"
      ],
      "metadata": {
        "id": "UBqDtRArlDCd"
      },
      "execution_count": 14,
      "outputs": []
    },
    {
      "cell_type": "code",
      "source": [
        "als = implicit.als.AlternatingLeastSquares(factors=100, iterations=10)\n",
        "als.fit(user_item_matrix)"
      ],
      "metadata": {
        "colab": {
          "base_uri": "https://localhost:8080/",
          "height": 105,
          "referenced_widgets": [
            "e552e7006fd443b3958eb5fef1df3074",
            "94ae7bf4c016426fab8bbded32bef7ca",
            "d114a63e551142f9b32cda61b7a8807c",
            "fee5017cdc004d1e97e064ebfc152d0d",
            "d3ace925231c4e9e99bc2b922daddc65",
            "95dd2dadf4f149aa9eb9b5774d8c2d62",
            "573fc560e4d440728d62780dcb6a8ef6",
            "7d8a4119e9804d1abe6a061de2464fb8",
            "09f65b97975b4fb2822cb417fbeba65e",
            "fd2a4ba167604c17b95c4536103e0c5a",
            "a489c33a40b54ff09906d4416b1d39dc"
          ]
        },
        "id": "GmFRT4Ls3v0G",
        "outputId": "a7ac1748-131a-4b3e-921d-93d8cd8428b7"
      },
      "execution_count": 15,
      "outputs": [
        {
          "output_type": "stream",
          "name": "stderr",
          "text": [
            "/usr/local/lib/python3.10/dist-packages/implicit/cpu/als.py:95: RuntimeWarning: OpenBLAS is configured to use 2 threads. It is highly recommended to disable its internal threadpool by setting the environment variable 'OPENBLAS_NUM_THREADS=1' or by calling 'threadpoolctl.threadpool_limits(1, \"blas\")'. Having OpenBLAS use a threadpool can lead to severe performance issues here.\n",
            "  check_blas_config()\n"
          ]
        },
        {
          "output_type": "display_data",
          "data": {
            "text/plain": [
              "  0%|          | 0/10 [00:00<?, ?it/s]"
            ],
            "application/vnd.jupyter.widget-view+json": {
              "version_major": 2,
              "version_minor": 0,
              "model_id": "e552e7006fd443b3958eb5fef1df3074"
            }
          },
          "metadata": {}
        }
      ]
    },
    {
      "cell_type": "markdown",
      "source": [
        "#### 2.1. RMSE & MAE"
      ],
      "metadata": {
        "id": "kozQoUzl59H2"
      }
    },
    {
      "cell_type": "markdown",
      "source": [
        "Se aprovechará de mostrar un enfoque general, de modo que puedan adaptar fácilmente al proyecto que desarrollan:"
      ],
      "metadata": {
        "id": "f4yRyFHEYsgG"
      }
    },
    {
      "cell_type": "code",
      "source": [
        "import math\n",
        "from tqdm import tqdm\n",
        "import random"
      ],
      "metadata": {
        "id": "tfFle_RvXKfK"
      },
      "execution_count": 27,
      "outputs": []
    },
    {
      "cell_type": "code",
      "source": [
        "def sigmoid(x):\n",
        "    try:\n",
        "        return 1 / (1 + math.exp(-x))\n",
        "    except OverflowError:\n",
        "        if x > 0:\n",
        "            return 1.0\n",
        "        else:\n",
        "            return 0.0"
      ],
      "metadata": {
        "id": "IrQlpyjaG9DB"
      },
      "execution_count": 44,
      "outputs": []
    },
    {
      "cell_type": "code",
      "source": [
        "validfile[\"svd_predict\"] = 0.0\n",
        "validfile[\"als_predict\"] = 0.0\n",
        "\n",
        "for k in tqdm(range(len(validfile))):\n",
        "    user_id = validfile[\"userID\"][k]\n",
        "    item_id = validfile[\"itemID\"][k]\n",
        "    compact_user_id = original_user_id_to_compact[user_id]\n",
        "    compact_item_id = original_item_id_to_compact[item_id]\n",
        "\n",
        "    # Predicción de rating con SVD\n",
        "    validfile.loc[k, \"svd_predict\"] = svd.predict(str(user_id), str(item_id))\n",
        "\n",
        "    # Para estimar rating con ALS, vamos a generar una lista con el item al que queremos predecirle el rating\n",
        "    # más una muestra aleatoria de otros items, con el fin de tener una noción de la distribución de preferencias del usuario,\n",
        "    # para luego normalizarla con sigmoid y obtener un rating estimado en el rango de ratings del usuario\n",
        "    items_to_predict = [compact_item_id]\n",
        "    items_to_predict.extend(random.sample(range(len(itemset)), 100))\n",
        "    predictions = als.recommend(compact_user_id, user_item_matrix[compact_user_id], items=items_to_predict, N=101)\n",
        "    min_score = predictions[1].min()\n",
        "    max_score = predictions[1].max()\n",
        "    item_score = predictions[1][predictions[0] == compact_item_id][0]\n",
        "    min_score = sigmoid(min_score)\n",
        "    max_score = sigmoid(max_score)\n",
        "    item_score = sigmoid(item_score)\n",
        "    min_rating = user_to_min_rating[user_id]\n",
        "    max_rating = user_to_max_rating[user_id]\n",
        "    item_rating = (item_score - min_score) / (max_score - min_score) * (max_rating - min_rating) + min_rating\n",
        "    validfile.loc[k, \"als_predict\"] = item_rating\n",
        "\n",
        "y_real     = validfile[\"rating\"].values.tolist()\n",
        "y_pred_svd = validfile[\"svd_predict\"].values.tolist()\n",
        "y_pred_als = validfile[\"als_predict\"].values.tolist()"
      ],
      "metadata": {
        "colab": {
          "base_uri": "https://localhost:8080/"
        },
        "id": "ESuJDm6LYzD2",
        "outputId": "8fb42161-bc66-472d-d721-51f6b0c74a79"
      },
      "execution_count": 45,
      "outputs": [
        {
          "output_type": "stream",
          "name": "stderr",
          "text": [
            "100%|██████████| 7083/7083 [00:18<00:00, 386.99it/s]\n"
          ]
        }
      ]
    },
    {
      "cell_type": "code",
      "source": [
        "# Caso SVD\n",
        "MSE = np.square(np.subtract(y_real,y_pred_svd)).mean()\n",
        "RMSE = math.sqrt(MSE)\n",
        "MAE = np.abs(np.subtract(y_real,y_pred_svd)).mean()\n",
        "\n",
        "print(\"Mean squared error    : \", MSE)\n",
        "print(\"Root Mean Square Error: \", RMSE)\n",
        "print(\"Mean absolute error   : \", MAE)"
      ],
      "metadata": {
        "colab": {
          "base_uri": "https://localhost:8080/"
        },
        "id": "TK2rzjMWXins",
        "outputId": "125765a4-87e5-49a3-f4ff-abaca729718b"
      },
      "execution_count": 48,
      "outputs": [
        {
          "output_type": "stream",
          "name": "stdout",
          "text": [
            "Mean squared error    :  0.3603823760931761\n",
            "Root Mean Square Error:  0.6003185621760967\n",
            "Mean absolute error   :  0.44419790961960187\n"
          ]
        }
      ]
    },
    {
      "cell_type": "code",
      "source": [
        "# Caso ALS\n",
        "MSE = np.square(np.subtract(y_real,y_pred_als)).mean()\n",
        "RMSE = math.sqrt(MSE)\n",
        "MAE = np.abs(np.subtract(y_real,y_pred_als)).mean()\n",
        "\n",
        "print(\"Mean squared error    : \", MSE)\n",
        "print(\"Root Mean Square Error: \", RMSE)\n",
        "print(\"Mean absolute error   : \", MAE)"
      ],
      "metadata": {
        "colab": {
          "base_uri": "https://localhost:8080/"
        },
        "id": "lRgqv5-_IcPj",
        "outputId": "53633116-a121-4445-8c82-2bbe14d224bb"
      },
      "execution_count": 50,
      "outputs": [
        {
          "output_type": "stream",
          "name": "stdout",
          "text": [
            "Mean squared error    :  1.1211383530433703\n",
            "Root Mean Square Error:  1.0588382090968242\n",
            "Mean absolute error   :  0.8236424755393589\n"
          ]
        }
      ]
    },
    {
      "cell_type": "markdown",
      "source": [
        "#### 2.2. MAP, NDCG, Recall"
      ],
      "metadata": {
        "id": "Mx1j9QzV6XuL"
      }
    },
    {
      "cell_type": "markdown",
      "metadata": {
        "id": "BXYtDCG96hoz"
      },
      "source": [
        "Podemos calcular MAP y NDCG directamente desde su definición oficial, implementadas como funciones."
      ]
    },
    {
      "cell_type": "code",
      "execution_count": 57,
      "metadata": {
        "id": "4vTpW8kq6hoz"
      },
      "outputs": [],
      "source": [
        "def precision_at_k(r, k):\n",
        "    assert 1 <= k <= r.size\n",
        "    return (np.asarray(r)[:k] != 0).mean()\n",
        "\n",
        "def average_precision_at_k(r, k):\n",
        "    r = np.asarray(r)\n",
        "    score = 0.\n",
        "    for i in range(min(k, r.size)):\n",
        "        score += precision_at_k(r, i + 1)\n",
        "    return score / k"
      ]
    },
    {
      "cell_type": "code",
      "execution_count": 58,
      "metadata": {
        "id": "F7Xm3iGb6hoz"
      },
      "outputs": [],
      "source": [
        "def dcg_at_k(r, k):\n",
        "    r = np.asfarray(r)[:k]\n",
        "    if r.size:\n",
        "        return np.sum(np.subtract(np.power(2, r), 1) / np.log2(np.arange(2, r.size + 2)))\n",
        "    return 0.\n",
        "\n",
        "def idcg_at_k(k):\n",
        "    return dcg_at_k(np.ones(k), k)\n",
        "\n",
        "def ndcg_at_k(r, k, max_relevant):\n",
        "    idcg = idcg_at_k(min(k, max_relevant))\n",
        "    if not idcg:\n",
        "        return 0.\n",
        "    return dcg_at_k(r, k) / idcg"
      ]
    },
    {
      "cell_type": "code",
      "source": [
        "def recall_at_k(relevant_items, recommended_items, k):\n",
        "    relevant_items = set(relevant_items)\n",
        "    recommended_items = set(recommended_items[:k])\n",
        "    intersection = relevant_items.intersection(recommended_items)\n",
        "    recall = len(intersection) / len(relevant_items) if len(relevant_items) > 0 else 0\n",
        "    return recall"
      ],
      "metadata": {
        "id": "1oct5kimO57b"
      },
      "execution_count": 65,
      "outputs": []
    },
    {
      "cell_type": "code",
      "execution_count": 66,
      "metadata": {
        "id": "p9HM_dCt6hoz"
      },
      "outputs": [],
      "source": [
        "def evaluate_ranking_SVD_model(model, user_items_test, k):\n",
        "    mean_ap = 0. # o MAP\n",
        "    mean_ndcg = 0.\n",
        "    mean_recall = 0.\n",
        "\n",
        "    for u in user_items_test.keys():\n",
        "        rec = model.recommend(str(u), k, includeRated=False) # Pyreclab's API\n",
        "        rec = [int(x) for x in rec]\n",
        "        rel_vector = np.isin(rec, user_items_test[u], assume_unique=True).astype(int)\n",
        "        mean_ap += average_precision_at_k(rel_vector, k)\n",
        "        mean_ndcg += ndcg_at_k(rel_vector, k, len(user_items_test[u]))\n",
        "        mean_recall += recall_at_k(user_items_test[u], rec, k)\n",
        "\n",
        "    mean_ap /= len(user_items_test)\n",
        "    mean_ndcg /= len(user_items_test)\n",
        "    mean_recall /= len(user_items_test)\n",
        "\n",
        "    return mean_ap, mean_ndcg, mean_recall\n",
        "\n",
        "def evaluate_ranking_ALS_model(model, user_items_test, k):\n",
        "    mean_ap = 0. # o MAP\n",
        "    mean_ndcg = 0.\n",
        "    mean_recall = 0.\n",
        "\n",
        "    for u in user_items_test.keys():\n",
        "        rec = model.recommend(u, user_item_matrix[u], k)[0] # implicit's API\n",
        "        rel_vector = np.isin(rec, user_items_test[u], assume_unique=True).astype(int)\n",
        "        mean_ap += average_precision_at_k(rel_vector, k)\n",
        "        mean_ndcg += ndcg_at_k(rel_vector, k, len(user_items_test[u]))\n",
        "        mean_recall += recall_at_k(user_items_test[u], rec, k)\n",
        "\n",
        "    mean_ap /= len(user_items_test)\n",
        "    mean_ndcg /= len(user_items_test)\n",
        "    mean_recall /= len(user_items_test)\n",
        "\n",
        "    return mean_ap, mean_ndcg, mean_recall"
      ]
    },
    {
      "cell_type": "code",
      "source": [
        "# This will be used by SVD\n",
        "user_item_valid = validfile.groupby('userID')['itemID'].apply(list).to_dict()"
      ],
      "metadata": {
        "id": "_aPH7s6-LUVt"
      },
      "execution_count": 52,
      "outputs": []
    },
    {
      "cell_type": "code",
      "source": [
        "# This will be used by ALS (remember it uses a compact range)\n",
        "compact_user_item_valid = {}\n",
        "for user, items in user_item_valid.items():\n",
        "    compact_user_item_valid[original_user_id_to_compact[user]] = [original_item_id_to_compact[item] for item in items]"
      ],
      "metadata": {
        "id": "Gg8vvcCkLVgb"
      },
      "execution_count": 54,
      "outputs": []
    },
    {
      "cell_type": "code",
      "source": [
        "assert len(user_item_valid) == len(compact_user_item_valid)"
      ],
      "metadata": {
        "id": "L0NRaDzbLd6V"
      },
      "execution_count": 55,
      "outputs": []
    },
    {
      "cell_type": "code",
      "source": [
        "# SVD\n",
        "top_k = 10\n",
        "\n",
        "map, ndcg, recall = evaluate_ranking_SVD_model(svd, user_item_valid, top_k)\n",
        "\n",
        "print('MAP@{}: {}\\nNDCG@{}: {}\\nRecall@{}: {}'.format(top_k, map, top_k, ndcg, top_k, recall))"
      ],
      "metadata": {
        "colab": {
          "base_uri": "https://localhost:8080/"
        },
        "id": "Hjccjjqjt6yd",
        "outputId": "07524084-8686-4f80-e63a-1fa5e7457847"
      },
      "execution_count": 67,
      "outputs": [
        {
          "output_type": "stream",
          "name": "stdout",
          "text": [
            "MAP@10: 0.005379334042741862\n",
            "NDCG@10: 0.007546552937359704\n",
            "Recall@10: 0.009456050336673679\n"
          ]
        }
      ]
    },
    {
      "cell_type": "code",
      "execution_count": 68,
      "metadata": {
        "colab": {
          "base_uri": "https://localhost:8080/"
        },
        "outputId": "e232489b-8dbd-4a5a-f13d-eb834294080a",
        "id": "N2LTK9k06hoz"
      },
      "outputs": [
        {
          "output_type": "stream",
          "name": "stdout",
          "text": [
            "MAP@10: 0.054869712689545165\n",
            "NDCG@10: 0.07826595537013126\n",
            "Recall@10: 0.08479393375446878\n"
          ]
        }
      ],
      "source": [
        "# ALS\n",
        "top_k = 10\n",
        "\n",
        "map, ndcg, recall = evaluate_ranking_ALS_model(als, compact_user_item_valid, top_k)\n",
        "\n",
        "print('MAP@{}: {}\\nNDCG@{}: {}\\nRecall@{}: {}'.format(top_k, map, top_k, ndcg, top_k, recall))"
      ]
    },
    {
      "cell_type": "markdown",
      "source": [
        "#### 2.4. Diversidad"
      ],
      "metadata": {
        "id": "VGWQdGiF7KwE"
      }
    },
    {
      "cell_type": "code",
      "source": [
        "user_id = 5401 # para SVD\n",
        "compact_user_id = original_user_id_to_compact[user_id] # para ALS\n",
        "top_k = 10\n",
        "\n",
        "svd_ranking = [int(r) for r in svd.recommend(str(user_id), top_k, includeRated=False)]\n",
        "als_ranking = list(als.recommend(userid=compact_user_id, user_items=user_item_matrix[compact_user_id], N=top_k)[0])\n",
        "als_ranking = [itemset[r] for r in als_ranking]\n",
        "\n",
        "print('SVD: Recommendation for user {}: {}'.format(user_id, svd_ranking))\n",
        "print('ALS: Recommendation for user {}: {}'.format(user_id, als_ranking))"
      ],
      "metadata": {
        "colab": {
          "base_uri": "https://localhost:8080/"
        },
        "id": "p6ozNewhRIUP",
        "outputId": "3dce9c95-7889-4461-eb86-41001aec4f67"
      },
      "execution_count": 69,
      "outputs": [
        {
          "output_type": "stream",
          "name": "stdout",
          "text": [
            "SVD: Recommendation for user 5401: [66849, 47658, 11895, 44081, 72821, 50524, 64487, 15660, 36039, 61745]\n",
            "ALS: Recommendation for user 5401: [35649, 43091, 961, 37403, 21556, 45260, 1589, 1121, 47659, 45878]\n"
          ]
        }
      ]
    },
    {
      "cell_type": "code",
      "source": [
        "def diversity(recommended_items, item_categories):\n",
        "    unique_categories = set()\n",
        "    for item in recommended_items:\n",
        "        categories = item_categories[item]\n",
        "        if type(categories) == list:\n",
        "            unique_categories.update(categories)\n",
        "        else:\n",
        "            unique_categories.add(categories)\n",
        "    return len(unique_categories) / len(recommended_items)"
      ],
      "metadata": {
        "id": "mOo0whRpUshJ"
      },
      "execution_count": 80,
      "outputs": []
    },
    {
      "cell_type": "code",
      "execution_count": 81,
      "metadata": {
        "colab": {
          "base_uri": "https://localhost:8080/"
        },
        "outputId": "7611c520-d821-408c-b23a-886fde343207",
        "id": "Ju8NOJUp7HIj"
      },
      "outputs": [
        {
          "output_type": "stream",
          "name": "stdout",
          "text": [
            "Diversidad: 0.7\n"
          ]
        }
      ],
      "source": [
        "item_categories = items_styles.set_index('itemID')['styleID'].to_dict()\n",
        "categorias_recomendadas = [item_categories[item] for item in als_ranking]\n",
        "\n",
        "# Calcular la proporción de categorías únicas\n",
        "diversidad = diversity(als_ranking, item_categories)\n",
        "print('Diversidad: {}'.format(diversidad))"
      ]
    },
    {
      "cell_type": "code",
      "source": [
        "categorias_recomendadas"
      ],
      "metadata": {
        "colab": {
          "base_uri": "https://localhost:8080/"
        },
        "id": "Rxi03B-VTDUO",
        "outputId": "0c2c4078-9f62-4a46-cd40-80ab5c321298"
      },
      "execution_count": 82,
      "outputs": [
        {
          "output_type": "execute_result",
          "data": {
            "text/plain": [
              "[3268, 16386, 365, 1199, 568, 16386, 395, 395, 1199, 14]"
            ]
          },
          "metadata": {},
          "execution_count": 82
        }
      ]
    },
    {
      "cell_type": "markdown",
      "source": [
        "#### 2.5. Novedad"
      ],
      "metadata": {
        "id": "bfMamTz57O2K"
      }
    },
    {
      "cell_type": "markdown",
      "metadata": {
        "id": "2f1ZsHrt7HIk"
      },
      "source": [
        "Primero se obtiene la popularidad de cada item. Para esto utilizaremos el set de entrenamiento."
      ]
    },
    {
      "cell_type": "code",
      "execution_count": 73,
      "metadata": {
        "id": "vAYg1IK_7HIk"
      },
      "outputs": [],
      "source": [
        "item_counts = trainfile['itemID'].value_counts()\n",
        "total_interacciones = len(trainfile)\n",
        "items_popularity = item_counts / total_interacciones\n",
        "items_popularity = items_popularity.to_dict()"
      ]
    },
    {
      "cell_type": "code",
      "source": [
        "def novelty(recommended_items, items_popularity):\n",
        "    novelty_score = 0\n",
        "    for item in recommended_items:\n",
        "        novelty_score += np.log(1 / items_popularity[item])\n",
        "    return novelty_score"
      ],
      "metadata": {
        "id": "NMA6Z-fjX3_J"
      },
      "execution_count": 83,
      "outputs": []
    },
    {
      "cell_type": "code",
      "execution_count": 84,
      "metadata": {
        "id": "S4MkXCQw7HIk",
        "colab": {
          "base_uri": "https://localhost:8080/"
        },
        "outputId": "6279de9a-8322-4ab6-9734-e20049b419c2"
      },
      "outputs": [
        {
          "output_type": "stream",
          "name": "stdout",
          "text": [
            "Novedad: 66.55537288016617\n"
          ]
        }
      ],
      "source": [
        "novedad = novelty(als_ranking, items_popularity)\n",
        "print('Novedad: {}'.format(novedad))"
      ]
    },
    {
      "cell_type": "markdown",
      "source": [
        "### 3. Algunos indicadores de recursos utilizados"
      ],
      "metadata": {
        "id": "QnKP1Vqd7boV"
      }
    },
    {
      "cell_type": "markdown",
      "metadata": {
        "id": "JVOu2VhD70-8"
      },
      "source": [
        "#### 3.1. Tiempo de Ejecución"
      ]
    },
    {
      "cell_type": "code",
      "execution_count": 85,
      "metadata": {
        "colab": {
          "base_uri": "https://localhost:8080/"
        },
        "outputId": "b7b5f3bb-3036-4ed3-98f7-fb6e90aadac3",
        "id": "KKu-Hnsb70-8"
      },
      "outputs": [
        {
          "output_type": "stream",
          "name": "stdout",
          "text": [
            "Tiempo de entrenamiento: 3.3651838302612305 segundos\n"
          ]
        }
      ],
      "source": [
        "# Iniciar el temporizador\n",
        "start_time = time.time()\n",
        "\n",
        "# Entrenamiento del modelo\n",
        "svd.train(factors=100, maxiter=100, lr=0.01, lamb=0.1)\n",
        "\n",
        "# Detener el temporizador\n",
        "end_time = time.time()\n",
        "\n",
        "print(f\"Tiempo de entrenamiento: {end_time - start_time} segundos\")"
      ]
    },
    {
      "cell_type": "markdown",
      "metadata": {
        "id": "p3BQlpHF70-9"
      },
      "source": [
        "#### 3.2. Memoria utilizada"
      ]
    },
    {
      "cell_type": "code",
      "execution_count": 86,
      "metadata": {
        "colab": {
          "base_uri": "https://localhost:8080/"
        },
        "outputId": "3ce30d16-dec2-4de1-ab16-bda9a7771654",
        "id": "6wjsKpP_8Qgs"
      },
      "outputs": [
        {
          "output_type": "stream",
          "name": "stdout",
          "text": [
            "Memoria utilizada: 16.984375 MB\n"
          ]
        }
      ],
      "source": [
        "# Obtener información de memoria antes del entrenamiento\n",
        "mem_info_before = psutil.virtual_memory().used\n",
        "\n",
        "# Entrenamiento del modelo\n",
        "svd.train(factors=100, maxiter=100, lr=0.01, lamb=0.1)\n",
        "\n",
        "# Obtener información de memoria después del entrenamiento\n",
        "mem_info_after = psutil.virtual_memory().used\n",
        "\n",
        "# Calcular el uso de memoria durante el entrenamiento\n",
        "memory_used = (mem_info_after - mem_info_before) / (1024 ** 2)  # Convertir a MB\n",
        "\n",
        "print(f\"Memoria utilizada: {memory_used} MB\")\n"
      ]
    },
    {
      "cell_type": "markdown",
      "metadata": {
        "id": "LkuvgVcx70-9"
      },
      "source": [
        "#### 3.3. Uso de CPU"
      ]
    },
    {
      "cell_type": "code",
      "execution_count": 87,
      "metadata": {
        "colab": {
          "base_uri": "https://localhost:8080/"
        },
        "outputId": "4e98bf8a-4a07-4e21-9f46-5db34fd3b8f2",
        "id": "RFrpahkd70-9"
      },
      "outputs": [
        {
          "output_type": "stream",
          "name": "stdout",
          "text": [
            "Uso de CPU: 28.299999999999997%\n"
          ]
        }
      ],
      "source": [
        "# Obtener el uso de CPU antes del entrenamiento\n",
        "cpu_usage_before = psutil.cpu_percent(interval=None)\n",
        "\n",
        "# Entrenamiento del modelo\n",
        "svd.train(factors=100, maxiter=100, lr=0.01, lamb=0.1)\n",
        "\n",
        "# Obtener el uso de CPU después del entrenamiento\n",
        "cpu_usage_after = psutil.cpu_percent(interval=None)\n",
        "\n",
        "print(f\"Uso de CPU: {cpu_usage_after - cpu_usage_before}%\")"
      ]
    }
  ],
  "metadata": {
    "colab": {
      "provenance": []
    },
    "kernelspec": {
      "display_name": "Python 3",
      "name": "python3"
    },
    "language_info": {
      "codemirror_mode": {
        "name": "ipython",
        "version": 3
      },
      "file_extension": ".py",
      "mimetype": "text/x-python",
      "name": "python",
      "nbconvert_exporter": "python",
      "pygments_lexer": "ipython3",
      "version": "3.6.0"
    },
    "toc": {
      "base_numbering": 1,
      "nav_menu": {},
      "number_sections": true,
      "sideBar": true,
      "skip_h1_title": false,
      "title_cell": "Table of Contents",
      "title_sidebar": "Contents",
      "toc_cell": false,
      "toc_position": {},
      "toc_section_display": true,
      "toc_window_display": false
    },
    "widgets": {
      "application/vnd.jupyter.widget-state+json": {
        "e552e7006fd443b3958eb5fef1df3074": {
          "model_module": "@jupyter-widgets/controls",
          "model_name": "HBoxModel",
          "model_module_version": "1.5.0",
          "state": {
            "_dom_classes": [],
            "_model_module": "@jupyter-widgets/controls",
            "_model_module_version": "1.5.0",
            "_model_name": "HBoxModel",
            "_view_count": null,
            "_view_module": "@jupyter-widgets/controls",
            "_view_module_version": "1.5.0",
            "_view_name": "HBoxView",
            "box_style": "",
            "children": [
              "IPY_MODEL_94ae7bf4c016426fab8bbded32bef7ca",
              "IPY_MODEL_d114a63e551142f9b32cda61b7a8807c",
              "IPY_MODEL_fee5017cdc004d1e97e064ebfc152d0d"
            ],
            "layout": "IPY_MODEL_d3ace925231c4e9e99bc2b922daddc65"
          }
        },
        "94ae7bf4c016426fab8bbded32bef7ca": {
          "model_module": "@jupyter-widgets/controls",
          "model_name": "HTMLModel",
          "model_module_version": "1.5.0",
          "state": {
            "_dom_classes": [],
            "_model_module": "@jupyter-widgets/controls",
            "_model_module_version": "1.5.0",
            "_model_name": "HTMLModel",
            "_view_count": null,
            "_view_module": "@jupyter-widgets/controls",
            "_view_module_version": "1.5.0",
            "_view_name": "HTMLView",
            "description": "",
            "description_tooltip": null,
            "layout": "IPY_MODEL_95dd2dadf4f149aa9eb9b5774d8c2d62",
            "placeholder": "​",
            "style": "IPY_MODEL_573fc560e4d440728d62780dcb6a8ef6",
            "value": "100%"
          }
        },
        "d114a63e551142f9b32cda61b7a8807c": {
          "model_module": "@jupyter-widgets/controls",
          "model_name": "FloatProgressModel",
          "model_module_version": "1.5.0",
          "state": {
            "_dom_classes": [],
            "_model_module": "@jupyter-widgets/controls",
            "_model_module_version": "1.5.0",
            "_model_name": "FloatProgressModel",
            "_view_count": null,
            "_view_module": "@jupyter-widgets/controls",
            "_view_module_version": "1.5.0",
            "_view_name": "ProgressView",
            "bar_style": "success",
            "description": "",
            "description_tooltip": null,
            "layout": "IPY_MODEL_7d8a4119e9804d1abe6a061de2464fb8",
            "max": 10,
            "min": 0,
            "orientation": "horizontal",
            "style": "IPY_MODEL_09f65b97975b4fb2822cb417fbeba65e",
            "value": 10
          }
        },
        "fee5017cdc004d1e97e064ebfc152d0d": {
          "model_module": "@jupyter-widgets/controls",
          "model_name": "HTMLModel",
          "model_module_version": "1.5.0",
          "state": {
            "_dom_classes": [],
            "_model_module": "@jupyter-widgets/controls",
            "_model_module_version": "1.5.0",
            "_model_name": "HTMLModel",
            "_view_count": null,
            "_view_module": "@jupyter-widgets/controls",
            "_view_module_version": "1.5.0",
            "_view_name": "HTMLView",
            "description": "",
            "description_tooltip": null,
            "layout": "IPY_MODEL_fd2a4ba167604c17b95c4536103e0c5a",
            "placeholder": "​",
            "style": "IPY_MODEL_a489c33a40b54ff09906d4416b1d39dc",
            "value": " 10/10 [00:01&lt;00:00,  6.14it/s]"
          }
        },
        "d3ace925231c4e9e99bc2b922daddc65": {
          "model_module": "@jupyter-widgets/base",
          "model_name": "LayoutModel",
          "model_module_version": "1.2.0",
          "state": {
            "_model_module": "@jupyter-widgets/base",
            "_model_module_version": "1.2.0",
            "_model_name": "LayoutModel",
            "_view_count": null,
            "_view_module": "@jupyter-widgets/base",
            "_view_module_version": "1.2.0",
            "_view_name": "LayoutView",
            "align_content": null,
            "align_items": null,
            "align_self": null,
            "border": null,
            "bottom": null,
            "display": null,
            "flex": null,
            "flex_flow": null,
            "grid_area": null,
            "grid_auto_columns": null,
            "grid_auto_flow": null,
            "grid_auto_rows": null,
            "grid_column": null,
            "grid_gap": null,
            "grid_row": null,
            "grid_template_areas": null,
            "grid_template_columns": null,
            "grid_template_rows": null,
            "height": null,
            "justify_content": null,
            "justify_items": null,
            "left": null,
            "margin": null,
            "max_height": null,
            "max_width": null,
            "min_height": null,
            "min_width": null,
            "object_fit": null,
            "object_position": null,
            "order": null,
            "overflow": null,
            "overflow_x": null,
            "overflow_y": null,
            "padding": null,
            "right": null,
            "top": null,
            "visibility": null,
            "width": null
          }
        },
        "95dd2dadf4f149aa9eb9b5774d8c2d62": {
          "model_module": "@jupyter-widgets/base",
          "model_name": "LayoutModel",
          "model_module_version": "1.2.0",
          "state": {
            "_model_module": "@jupyter-widgets/base",
            "_model_module_version": "1.2.0",
            "_model_name": "LayoutModel",
            "_view_count": null,
            "_view_module": "@jupyter-widgets/base",
            "_view_module_version": "1.2.0",
            "_view_name": "LayoutView",
            "align_content": null,
            "align_items": null,
            "align_self": null,
            "border": null,
            "bottom": null,
            "display": null,
            "flex": null,
            "flex_flow": null,
            "grid_area": null,
            "grid_auto_columns": null,
            "grid_auto_flow": null,
            "grid_auto_rows": null,
            "grid_column": null,
            "grid_gap": null,
            "grid_row": null,
            "grid_template_areas": null,
            "grid_template_columns": null,
            "grid_template_rows": null,
            "height": null,
            "justify_content": null,
            "justify_items": null,
            "left": null,
            "margin": null,
            "max_height": null,
            "max_width": null,
            "min_height": null,
            "min_width": null,
            "object_fit": null,
            "object_position": null,
            "order": null,
            "overflow": null,
            "overflow_x": null,
            "overflow_y": null,
            "padding": null,
            "right": null,
            "top": null,
            "visibility": null,
            "width": null
          }
        },
        "573fc560e4d440728d62780dcb6a8ef6": {
          "model_module": "@jupyter-widgets/controls",
          "model_name": "DescriptionStyleModel",
          "model_module_version": "1.5.0",
          "state": {
            "_model_module": "@jupyter-widgets/controls",
            "_model_module_version": "1.5.0",
            "_model_name": "DescriptionStyleModel",
            "_view_count": null,
            "_view_module": "@jupyter-widgets/base",
            "_view_module_version": "1.2.0",
            "_view_name": "StyleView",
            "description_width": ""
          }
        },
        "7d8a4119e9804d1abe6a061de2464fb8": {
          "model_module": "@jupyter-widgets/base",
          "model_name": "LayoutModel",
          "model_module_version": "1.2.0",
          "state": {
            "_model_module": "@jupyter-widgets/base",
            "_model_module_version": "1.2.0",
            "_model_name": "LayoutModel",
            "_view_count": null,
            "_view_module": "@jupyter-widgets/base",
            "_view_module_version": "1.2.0",
            "_view_name": "LayoutView",
            "align_content": null,
            "align_items": null,
            "align_self": null,
            "border": null,
            "bottom": null,
            "display": null,
            "flex": null,
            "flex_flow": null,
            "grid_area": null,
            "grid_auto_columns": null,
            "grid_auto_flow": null,
            "grid_auto_rows": null,
            "grid_column": null,
            "grid_gap": null,
            "grid_row": null,
            "grid_template_areas": null,
            "grid_template_columns": null,
            "grid_template_rows": null,
            "height": null,
            "justify_content": null,
            "justify_items": null,
            "left": null,
            "margin": null,
            "max_height": null,
            "max_width": null,
            "min_height": null,
            "min_width": null,
            "object_fit": null,
            "object_position": null,
            "order": null,
            "overflow": null,
            "overflow_x": null,
            "overflow_y": null,
            "padding": null,
            "right": null,
            "top": null,
            "visibility": null,
            "width": null
          }
        },
        "09f65b97975b4fb2822cb417fbeba65e": {
          "model_module": "@jupyter-widgets/controls",
          "model_name": "ProgressStyleModel",
          "model_module_version": "1.5.0",
          "state": {
            "_model_module": "@jupyter-widgets/controls",
            "_model_module_version": "1.5.0",
            "_model_name": "ProgressStyleModel",
            "_view_count": null,
            "_view_module": "@jupyter-widgets/base",
            "_view_module_version": "1.2.0",
            "_view_name": "StyleView",
            "bar_color": null,
            "description_width": ""
          }
        },
        "fd2a4ba167604c17b95c4536103e0c5a": {
          "model_module": "@jupyter-widgets/base",
          "model_name": "LayoutModel",
          "model_module_version": "1.2.0",
          "state": {
            "_model_module": "@jupyter-widgets/base",
            "_model_module_version": "1.2.0",
            "_model_name": "LayoutModel",
            "_view_count": null,
            "_view_module": "@jupyter-widgets/base",
            "_view_module_version": "1.2.0",
            "_view_name": "LayoutView",
            "align_content": null,
            "align_items": null,
            "align_self": null,
            "border": null,
            "bottom": null,
            "display": null,
            "flex": null,
            "flex_flow": null,
            "grid_area": null,
            "grid_auto_columns": null,
            "grid_auto_flow": null,
            "grid_auto_rows": null,
            "grid_column": null,
            "grid_gap": null,
            "grid_row": null,
            "grid_template_areas": null,
            "grid_template_columns": null,
            "grid_template_rows": null,
            "height": null,
            "justify_content": null,
            "justify_items": null,
            "left": null,
            "margin": null,
            "max_height": null,
            "max_width": null,
            "min_height": null,
            "min_width": null,
            "object_fit": null,
            "object_position": null,
            "order": null,
            "overflow": null,
            "overflow_x": null,
            "overflow_y": null,
            "padding": null,
            "right": null,
            "top": null,
            "visibility": null,
            "width": null
          }
        },
        "a489c33a40b54ff09906d4416b1d39dc": {
          "model_module": "@jupyter-widgets/controls",
          "model_name": "DescriptionStyleModel",
          "model_module_version": "1.5.0",
          "state": {
            "_model_module": "@jupyter-widgets/controls",
            "_model_module_version": "1.5.0",
            "_model_name": "DescriptionStyleModel",
            "_view_count": null,
            "_view_module": "@jupyter-widgets/base",
            "_view_module_version": "1.2.0",
            "_view_name": "StyleView",
            "description_width": ""
          }
        }
      }
    }
  },
  "nbformat": 4,
  "nbformat_minor": 0
}