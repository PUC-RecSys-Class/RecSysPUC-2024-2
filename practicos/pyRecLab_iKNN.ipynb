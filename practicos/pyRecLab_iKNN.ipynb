{
 "cells": [
  {
   "cell_type": "markdown",
   "metadata": {
    "colab_type": "text",
    "id": "view-in-github"
   },
   "source": [
    "<a href=\"https://colab.research.google.com/github/PUC-RecSys-Class/RecSysPUC-2020/blob/master/practicos/pyRecLab_iKNN.ipynb\" target=\"_parent\"><img src=\"https://colab.research.google.com/assets/colab-badge.svg\" alt=\"Open In Colab\"/></a>\n"
   ]
  },
  {
   "cell_type": "markdown",
   "metadata": {
    "colab_type": "text",
    "id": "NC-ceGb8LRLT"
   },
   "source": [
    "# Práctica de Sistemas Recomendadores: pyreclab - iKNN"
   ]
  },
  {
   "cell_type": "markdown",
   "metadata": {
    "colab_type": "text",
    "id": "mACJbcW8T35p"
   },
   "source": [
    "En este tutorial vamos a utilizar la biblioteca de Python [pyreclab](https://github.com/gasevi/pyreclab) desarrollado por los Laboratorios IALab y SocVis de la Pontificia Universidad Católica de Chile, para aprender sobre algoritmos básicos y tradicionales de sistemas de recomendación:\n",
    "\n",
    "*   Ítem KNN (Filtrado colaborativo basado en ítems).\n",
    "\n",
    "**Profesor**: Denis Parra\n",
    "\n",
    "**Ayudantes**: Andrés Villa, Francisca Cattan, Vladimir Araujo, Andrés Carvallo, Manuel Cartagena.\n",
    "\n"
   ]
  },
  {
   "cell_type": "markdown",
   "metadata": {
    "colab_type": "text",
    "id": "2j02H66f87eV"
   },
   "source": [
    "# Índice"
   ]
  },
  {
   "cell_type": "markdown",
   "metadata": {
    "colab_type": "toc",
    "id": "Ig9HHqbC84j5"
   },
   "source": [
    ">[Tutorial Pyreclab iKNN](#scrollTo=NC-ceGb8LRLT)\n",
    "\n",
    ">[Índice](#scrollTo=2j02H66f87eV)\n",
    "\n",
    ">[Configuración Inicial](#scrollTo=I63yOG6sK6Lx)\n",
    "\n",
    ">>[Descargando la información](#scrollTo=9qKTQ2V5VKSX)\n",
    "\n",
    ">>[Revisar archivos descargados](#scrollTo=liJ3L2kl4g1o)\n",
    "\n",
    ">>[Cómo ver la información de una o más películas](#scrollTo=jqXxj773Foo8)\n",
    "\n",
    ">>[Instalar Pyreclab](#scrollTo=P3K5VPZoGSYX)\n",
    "\n",
    ">[ItemKNN](#scrollTo=FqgkF0dNMo9c)\n",
    "\n",
    ">>[Entrenar el modelo](#scrollTo=nyiS5jAydggW)\n",
    "\n",
    ">>[Prediga el rating que le dará un usuario a un ítem](#scrollTo=c-tasjVmdj9Z)\n",
    "\n",
    ">>[Genera una lista de 5 recomendaciones para un usuario e indique qué películas son](#scrollTo=Ka67uLNmdoqD)\n",
    "\n",
    ">>[Explorar los hiperparámetros del modelo ItemKnn](#scrollTo=or0YkBeF8eeC)\n",
    "\n"
   ]
  },
  {
   "cell_type": "markdown",
   "metadata": {
    "colab_type": "text",
    "id": "I63yOG6sK6Lx"
   },
   "source": [
    "# Configuración Inicial"
   ]
  },
  {
   "cell_type": "markdown",
   "metadata": {
    "colab_type": "text",
    "id": "9qKTQ2V5VKSX"
   },
   "source": [
    "## Descargando la información\n",
    "\n",
    "Ejecutar cada celda presionando el botón de **Play** o presionando Ctrl+Enter (Linux y Windows) o Command+Enter (OSX) para descargar las bases de datos."
   ]
  },
  {
   "cell_type": "code",
   "execution_count": null,
   "metadata": {
    "colab": {
     "base_uri": "https://localhost:8080/",
     "height": 87
    },
    "colab_type": "code",
    "id": "k9ns677UutZM",
    "outputId": "f997c4d6-0835-423c-c6f9-28aaed6eccc0"
   },
   "outputs": [
    {
     "name": "stdout",
     "output_type": "stream",
     "text": [
      "  % Total    % Received % Xferd  Average Speed   Time    Time     Time  Current\n",
      "                                 Dload  Upload   Total   Spent    Left  Speed\n",
      "100   388    0   388    0     0    508      0 --:--:-- --:--:-- --:--:--   507\n",
      "100 1546k  100 1546k    0     0  1611k      0 --:--:-- --:--:-- --:--:-- 1611k\n"
     ]
    }
   ],
   "source": [
    "!curl -L -o \"u1.base\" \"https://drive.google.com/uc?export=download&id=1bGweNw7NbOHoJz11v6ld7ymLR8MLvBsA\""
   ]
  },
  {
   "cell_type": "code",
   "execution_count": null,
   "metadata": {
    "colab": {
     "base_uri": "https://localhost:8080/",
     "height": 87
    },
    "colab_type": "code",
    "id": "zsxxCm_5uuIC",
    "outputId": "0f84f433-852b-41df-afde-ffd1a7387ba4"
   },
   "outputs": [
    {
     "name": "stdout",
     "output_type": "stream",
     "text": [
      "  % Total    % Received % Xferd  Average Speed   Time    Time     Time  Current\n",
      "                                 Dload  Upload   Total   Spent    Left  Speed\n",
      "\r\n",
      "  0     0    0     0    0     0      0      0 --:--:-- --:--:-- --:--:--     0\r\n",
      "100   388    0   388    0     0    917      0 --:--:-- --:--:-- --:--:--   917\n",
      "\r\n",
      "100  385k  100  385k    0     0   651k      0 --:--:-- --:--:-- --:--:--  651k\n"
     ]
    }
   ],
   "source": [
    "!curl -L -o \"u1.test\" \"https://drive.google.com/uc?export=download&id=1f_HwJWC_1HFzgAjKAWKwkuxgjkhkXrVg\""
   ]
  },
  {
   "cell_type": "code",
   "execution_count": null,
   "metadata": {
    "colab": {
     "base_uri": "https://localhost:8080/",
     "height": 87
    },
    "colab_type": "code",
    "id": "Ji-GEIx4uuQ8",
    "outputId": "eb7b5ffb-882e-4e81-edb3-ec350e60f04a"
   },
   "outputs": [
    {
     "name": "stdout",
     "output_type": "stream",
     "text": [
      "  % Total    % Received % Xferd  Average Speed   Time    Time     Time  Current\n",
      "                                 Dload  Upload   Total   Spent    Left  Speed\n",
      "100   388    0   388    0     0   1074      0 --:--:-- --:--:-- --:--:--  1074\n",
      "100  230k  100  230k    0     0   295k      0 --:--:-- --:--:-- --:--:--  112M\n"
     ]
    }
   ],
   "source": [
    "!curl -L -o \"u.item\" \"https://drive.google.com/uc?export=download&id=10YLhxkO2-M_flQtyo9OYV4nT9IvSESuz\""
   ]
  },
  {
   "cell_type": "markdown",
   "metadata": {
    "colab_type": "text",
    "id": "liJ3L2kl4g1o"
   },
   "source": [
    "Los archivos **u1.base** y **u1.test** tienen tuplas {usuario, ítem, rating, timestamp}, que es la información de preferencias de usuarios sobre películas en una muestra del dataset [movielens](https://grouplens.org/datasets/movielens/).\n",
    "\n",
    "## Revisar archivos descargados\n",
    "\n",
    "Revisemos cómo es uno de estos archivos:"
   ]
  },
  {
   "cell_type": "code",
   "execution_count": null,
   "metadata": {
    "colab": {
     "base_uri": "https://localhost:8080/",
     "height": 195
    },
    "colab_type": "code",
    "id": "10N9GHcw5AeV",
    "outputId": "f8398692-f89f-4e1d-9053-acb261b18a50"
   },
   "outputs": [
    {
     "data": {
      "text/html": [
       "<div>\n",
       "<style scoped>\n",
       "    .dataframe tbody tr th:only-of-type {\n",
       "        vertical-align: middle;\n",
       "    }\n",
       "\n",
       "    .dataframe tbody tr th {\n",
       "        vertical-align: top;\n",
       "    }\n",
       "\n",
       "    .dataframe thead th {\n",
       "        text-align: right;\n",
       "    }\n",
       "</style>\n",
       "<table border=\"1\" class=\"dataframe\">\n",
       "  <thead>\n",
       "    <tr style=\"text-align: right;\">\n",
       "      <th></th>\n",
       "      <th>userid</th>\n",
       "      <th>itemid</th>\n",
       "      <th>rating</th>\n",
       "      <th>timestamp</th>\n",
       "    </tr>\n",
       "  </thead>\n",
       "  <tbody>\n",
       "    <tr>\n",
       "      <th>0</th>\n",
       "      <td>1</td>\n",
       "      <td>3</td>\n",
       "      <td>4</td>\n",
       "      <td>878542960</td>\n",
       "    </tr>\n",
       "    <tr>\n",
       "      <th>1</th>\n",
       "      <td>1</td>\n",
       "      <td>4</td>\n",
       "      <td>3</td>\n",
       "      <td>876893119</td>\n",
       "    </tr>\n",
       "    <tr>\n",
       "      <th>2</th>\n",
       "      <td>1</td>\n",
       "      <td>5</td>\n",
       "      <td>3</td>\n",
       "      <td>889751712</td>\n",
       "    </tr>\n",
       "    <tr>\n",
       "      <th>3</th>\n",
       "      <td>1</td>\n",
       "      <td>6</td>\n",
       "      <td>5</td>\n",
       "      <td>887431973</td>\n",
       "    </tr>\n",
       "    <tr>\n",
       "      <th>4</th>\n",
       "      <td>1</td>\n",
       "      <td>7</td>\n",
       "      <td>4</td>\n",
       "      <td>875071561</td>\n",
       "    </tr>\n",
       "  </tbody>\n",
       "</table>\n",
       "</div>"
      ],
      "text/plain": [
       "   userid  itemid  rating  timestamp\n",
       "0       1       3       4  878542960\n",
       "1       1       4       3  876893119\n",
       "2       1       5       3  889751712\n",
       "3       1       6       5  887431973\n",
       "4       1       7       4  875071561"
      ]
     },
     "execution_count": 5,
     "metadata": {
      "tags": []
     },
     "output_type": "execute_result"
    }
   ],
   "source": [
    "import pandas as pd\n",
    "\n",
    "train_file = pd.read_csv('u1.base', sep='\\t', names = ['userid', 'itemid', 'rating', 'timestamp'], header=None)\n",
    "\n",
    "train_file.head()"
   ]
  },
  {
   "cell_type": "code",
   "execution_count": null,
   "metadata": {
    "colab": {
     "base_uri": "https://localhost:8080/",
     "height": 77
    },
    "colab_type": "code",
    "id": "wi4TSVE3atjZ",
    "outputId": "04c314bb-c694-44b7-9716-3431267b7b4e"
   },
   "outputs": [
    {
     "data": {
      "text/html": [
       "<div>\n",
       "<style scoped>\n",
       "    .dataframe tbody tr th:only-of-type {\n",
       "        vertical-align: middle;\n",
       "    }\n",
       "\n",
       "    .dataframe tbody tr th {\n",
       "        vertical-align: top;\n",
       "    }\n",
       "\n",
       "    .dataframe thead th {\n",
       "        text-align: right;\n",
       "    }\n",
       "</style>\n",
       "<table border=\"1\" class=\"dataframe\">\n",
       "  <thead>\n",
       "    <tr style=\"text-align: right;\">\n",
       "      <th></th>\n",
       "      <th>userid</th>\n",
       "      <th>itemid</th>\n",
       "      <th>rating</th>\n",
       "      <th>timestamp</th>\n",
       "    </tr>\n",
       "  </thead>\n",
       "  <tbody>\n",
       "    <tr>\n",
       "      <th>54444</th>\n",
       "      <td>675</td>\n",
       "      <td>1653</td>\n",
       "      <td>5</td>\n",
       "      <td>889489913</td>\n",
       "    </tr>\n",
       "  </tbody>\n",
       "</table>\n",
       "</div>"
      ],
      "text/plain": [
       "       userid  itemid  rating  timestamp\n",
       "54444     675    1653       5  889489913"
      ]
     },
     "execution_count": 6,
     "metadata": {
      "tags": []
     },
     "output_type": "execute_result"
    }
   ],
   "source": [
    "train_file[train_file['itemid'] == 1653]"
   ]
  },
  {
   "cell_type": "markdown",
   "metadata": {
    "colab_type": "text",
    "id": "BKOrcfaiEdqM"
   },
   "source": [
    "Por otra parte, para obtener información adicional de cada película tal como *título*, *fecha de lanzamient*o, *género*, etc., cargaremos el archivo de items descargado ( *u.item* ) para poder mapear cada identificador de ítem al conjunto de datos que lo describe.\n",
    "Revisemos el contenido de este archivo."
   ]
  },
  {
   "cell_type": "code",
   "execution_count": null,
   "metadata": {
    "colab": {
     "base_uri": "https://localhost:8080/",
     "height": 362
    },
    "colab_type": "code",
    "id": "bVtvxJnr_yeK",
    "outputId": "156d353e-5574-4c9d-9f87-7eed275998a6"
   },
   "outputs": [
    {
     "data": {
      "text/html": [
       "<div>\n",
       "<style scoped>\n",
       "    .dataframe tbody tr th:only-of-type {\n",
       "        vertical-align: middle;\n",
       "    }\n",
       "\n",
       "    .dataframe tbody tr th {\n",
       "        vertical-align: top;\n",
       "    }\n",
       "\n",
       "    .dataframe thead th {\n",
       "        text-align: right;\n",
       "    }\n",
       "</style>\n",
       "<table border=\"1\" class=\"dataframe\">\n",
       "  <thead>\n",
       "    <tr style=\"text-align: right;\">\n",
       "      <th></th>\n",
       "      <th>title</th>\n",
       "      <th>release_date</th>\n",
       "      <th>video_release_date</th>\n",
       "      <th>IMDb_URL</th>\n",
       "      <th>unknown</th>\n",
       "      <th>Action</th>\n",
       "      <th>Adventure</th>\n",
       "      <th>Animation</th>\n",
       "      <th>Children</th>\n",
       "      <th>Comedy</th>\n",
       "      <th>Crime</th>\n",
       "      <th>Documentary</th>\n",
       "      <th>Drama</th>\n",
       "      <th>Fantasy</th>\n",
       "      <th>Film-Noir</th>\n",
       "      <th>Horror</th>\n",
       "      <th>Musical</th>\n",
       "      <th>Mystery</th>\n",
       "      <th>Romance</th>\n",
       "      <th>Sci-Fi</th>\n",
       "      <th>Thriller</th>\n",
       "      <th>War</th>\n",
       "      <th>Western</th>\n",
       "    </tr>\n",
       "    <tr>\n",
       "      <th>movieid</th>\n",
       "      <th></th>\n",
       "      <th></th>\n",
       "      <th></th>\n",
       "      <th></th>\n",
       "      <th></th>\n",
       "      <th></th>\n",
       "      <th></th>\n",
       "      <th></th>\n",
       "      <th></th>\n",
       "      <th></th>\n",
       "      <th></th>\n",
       "      <th></th>\n",
       "      <th></th>\n",
       "      <th></th>\n",
       "      <th></th>\n",
       "      <th></th>\n",
       "      <th></th>\n",
       "      <th></th>\n",
       "      <th></th>\n",
       "      <th></th>\n",
       "      <th></th>\n",
       "      <th></th>\n",
       "      <th></th>\n",
       "    </tr>\n",
       "  </thead>\n",
       "  <tbody>\n",
       "    <tr>\n",
       "      <th>1</th>\n",
       "      <td>Toy Story (1995)</td>\n",
       "      <td>01-Jan-1995</td>\n",
       "      <td>NaN</td>\n",
       "      <td>http://us.imdb.com/M/title-exact?Toy%20Story%2...</td>\n",
       "      <td>0</td>\n",
       "      <td>0</td>\n",
       "      <td>0</td>\n",
       "      <td>1</td>\n",
       "      <td>1</td>\n",
       "      <td>1</td>\n",
       "      <td>0</td>\n",
       "      <td>0</td>\n",
       "      <td>0</td>\n",
       "      <td>0</td>\n",
       "      <td>0</td>\n",
       "      <td>0</td>\n",
       "      <td>0</td>\n",
       "      <td>0</td>\n",
       "      <td>0</td>\n",
       "      <td>0</td>\n",
       "      <td>0</td>\n",
       "      <td>0</td>\n",
       "      <td>0</td>\n",
       "    </tr>\n",
       "    <tr>\n",
       "      <th>2</th>\n",
       "      <td>GoldenEye (1995)</td>\n",
       "      <td>01-Jan-1995</td>\n",
       "      <td>NaN</td>\n",
       "      <td>http://us.imdb.com/M/title-exact?GoldenEye%20(...</td>\n",
       "      <td>0</td>\n",
       "      <td>1</td>\n",
       "      <td>1</td>\n",
       "      <td>0</td>\n",
       "      <td>0</td>\n",
       "      <td>0</td>\n",
       "      <td>0</td>\n",
       "      <td>0</td>\n",
       "      <td>0</td>\n",
       "      <td>0</td>\n",
       "      <td>0</td>\n",
       "      <td>0</td>\n",
       "      <td>0</td>\n",
       "      <td>0</td>\n",
       "      <td>0</td>\n",
       "      <td>0</td>\n",
       "      <td>1</td>\n",
       "      <td>0</td>\n",
       "      <td>0</td>\n",
       "    </tr>\n",
       "    <tr>\n",
       "      <th>3</th>\n",
       "      <td>Four Rooms (1995)</td>\n",
       "      <td>01-Jan-1995</td>\n",
       "      <td>NaN</td>\n",
       "      <td>http://us.imdb.com/M/title-exact?Four%20Rooms%...</td>\n",
       "      <td>0</td>\n",
       "      <td>0</td>\n",
       "      <td>0</td>\n",
       "      <td>0</td>\n",
       "      <td>0</td>\n",
       "      <td>0</td>\n",
       "      <td>0</td>\n",
       "      <td>0</td>\n",
       "      <td>0</td>\n",
       "      <td>0</td>\n",
       "      <td>0</td>\n",
       "      <td>0</td>\n",
       "      <td>0</td>\n",
       "      <td>0</td>\n",
       "      <td>0</td>\n",
       "      <td>0</td>\n",
       "      <td>1</td>\n",
       "      <td>0</td>\n",
       "      <td>0</td>\n",
       "    </tr>\n",
       "    <tr>\n",
       "      <th>4</th>\n",
       "      <td>Get Shorty (1995)</td>\n",
       "      <td>01-Jan-1995</td>\n",
       "      <td>NaN</td>\n",
       "      <td>http://us.imdb.com/M/title-exact?Get%20Shorty%...</td>\n",
       "      <td>0</td>\n",
       "      <td>1</td>\n",
       "      <td>0</td>\n",
       "      <td>0</td>\n",
       "      <td>0</td>\n",
       "      <td>1</td>\n",
       "      <td>0</td>\n",
       "      <td>0</td>\n",
       "      <td>1</td>\n",
       "      <td>0</td>\n",
       "      <td>0</td>\n",
       "      <td>0</td>\n",
       "      <td>0</td>\n",
       "      <td>0</td>\n",
       "      <td>0</td>\n",
       "      <td>0</td>\n",
       "      <td>0</td>\n",
       "      <td>0</td>\n",
       "      <td>0</td>\n",
       "    </tr>\n",
       "    <tr>\n",
       "      <th>5</th>\n",
       "      <td>Copycat (1995)</td>\n",
       "      <td>01-Jan-1995</td>\n",
       "      <td>NaN</td>\n",
       "      <td>http://us.imdb.com/M/title-exact?Copycat%20(1995)</td>\n",
       "      <td>0</td>\n",
       "      <td>0</td>\n",
       "      <td>0</td>\n",
       "      <td>0</td>\n",
       "      <td>0</td>\n",
       "      <td>0</td>\n",
       "      <td>1</td>\n",
       "      <td>0</td>\n",
       "      <td>1</td>\n",
       "      <td>0</td>\n",
       "      <td>0</td>\n",
       "      <td>0</td>\n",
       "      <td>0</td>\n",
       "      <td>0</td>\n",
       "      <td>0</td>\n",
       "      <td>0</td>\n",
       "      <td>1</td>\n",
       "      <td>0</td>\n",
       "      <td>0</td>\n",
       "    </tr>\n",
       "  </tbody>\n",
       "</table>\n",
       "</div>"
      ],
      "text/plain": [
       "                     title release_date  video_release_date  \\\n",
       "movieid                                                       \n",
       "1         Toy Story (1995)  01-Jan-1995                 NaN   \n",
       "2         GoldenEye (1995)  01-Jan-1995                 NaN   \n",
       "3        Four Rooms (1995)  01-Jan-1995                 NaN   \n",
       "4        Get Shorty (1995)  01-Jan-1995                 NaN   \n",
       "5           Copycat (1995)  01-Jan-1995                 NaN   \n",
       "\n",
       "                                                  IMDb_URL  unknown  Action  \\\n",
       "movieid                                                                       \n",
       "1        http://us.imdb.com/M/title-exact?Toy%20Story%2...        0       0   \n",
       "2        http://us.imdb.com/M/title-exact?GoldenEye%20(...        0       1   \n",
       "3        http://us.imdb.com/M/title-exact?Four%20Rooms%...        0       0   \n",
       "4        http://us.imdb.com/M/title-exact?Get%20Shorty%...        0       1   \n",
       "5        http://us.imdb.com/M/title-exact?Copycat%20(1995)        0       0   \n",
       "\n",
       "         Adventure  Animation  Children  Comedy  Crime  Documentary  Drama  \\\n",
       "movieid                                                                      \n",
       "1                0          1         1       1      0            0      0   \n",
       "2                1          0         0       0      0            0      0   \n",
       "3                0          0         0       0      0            0      0   \n",
       "4                0          0         0       1      0            0      1   \n",
       "5                0          0         0       0      1            0      1   \n",
       "\n",
       "         Fantasy  Film-Noir  Horror  Musical  Mystery  Romance  Sci-Fi  \\\n",
       "movieid                                                                  \n",
       "1              0          0       0        0        0        0       0   \n",
       "2              0          0       0        0        0        0       0   \n",
       "3              0          0       0        0        0        0       0   \n",
       "4              0          0       0        0        0        0       0   \n",
       "5              0          0       0        0        0        0       0   \n",
       "\n",
       "         Thriller  War  Western  \n",
       "movieid                          \n",
       "1               0    0        0  \n",
       "2               1    0        0  \n",
       "3               1    0        0  \n",
       "4               0    0        0  \n",
       "5               1    0        0  "
      ]
     },
     "execution_count": 7,
     "metadata": {
      "tags": []
     },
     "output_type": "execute_result"
    }
   ],
   "source": [
    "info_cols = [ 'movieid', 'title', 'release_date', 'video_release_date', 'IMDb_URL', \\\n",
    "              'unknown', 'Action', 'Adventure', 'Animation', 'Children', 'Comedy', \\\n",
    "              'Crime', 'Documentary', 'Drama', 'Fantasy', 'Film-Noir', 'Horror', \\\n",
    "              'Musical', 'Mystery', 'Romance', 'Sci-Fi', 'Thriller', 'War', 'Western' ]\n",
    "\n",
    "pd.options.display.max_columns = None\n",
    "\n",
    "info_file = pd.read_csv('u.item', sep='|', index_col = 0, names = info_cols, header=None, encoding='latin-1')\n",
    "\n",
    "info_file.head()"
   ]
  },
  {
   "cell_type": "markdown",
   "metadata": {
    "colab_type": "text",
    "id": "LW3ngD1aXffG"
   },
   "source": [
    "El comando `pd.options.display.max_columns = None` permite que la tabla se pueda mostrar completamente de forma horizontal, es decir, que muestre todas sus columnas."
   ]
  },
  {
   "cell_type": "code",
   "execution_count": null,
   "metadata": {
    "colab": {
     "base_uri": "https://localhost:8080/",
     "height": 545
    },
    "colab_type": "code",
    "id": "nHxPjm-hXffH",
    "outputId": "16d1c086-ea6a-4fc8-eba7-e8819e8412db"
   },
   "outputs": [
    {
     "name": "stdout",
     "output_type": "stream",
     "text": [
      "<class 'pandas.core.frame.DataFrame'>\n",
      "Int64Index: 1682 entries, 1 to 1682\n",
      "Data columns (total 23 columns):\n",
      " #   Column              Non-Null Count  Dtype  \n",
      "---  ------              --------------  -----  \n",
      " 0   title               1682 non-null   object \n",
      " 1   release_date        1681 non-null   object \n",
      " 2   video_release_date  0 non-null      float64\n",
      " 3   IMDb_URL            1679 non-null   object \n",
      " 4   unknown             1682 non-null   int64  \n",
      " 5   Action              1682 non-null   int64  \n",
      " 6   Adventure           1682 non-null   int64  \n",
      " 7   Animation           1682 non-null   int64  \n",
      " 8   Children            1682 non-null   int64  \n",
      " 9   Comedy              1682 non-null   int64  \n",
      " 10  Crime               1682 non-null   int64  \n",
      " 11  Documentary         1682 non-null   int64  \n",
      " 12  Drama               1682 non-null   int64  \n",
      " 13  Fantasy             1682 non-null   int64  \n",
      " 14  Film-Noir           1682 non-null   int64  \n",
      " 15  Horror              1682 non-null   int64  \n",
      " 16  Musical             1682 non-null   int64  \n",
      " 17  Mystery             1682 non-null   int64  \n",
      " 18  Romance             1682 non-null   int64  \n",
      " 19  Sci-Fi              1682 non-null   int64  \n",
      " 20  Thriller            1682 non-null   int64  \n",
      " 21  War                 1682 non-null   int64  \n",
      " 22  Western             1682 non-null   int64  \n",
      "dtypes: float64(1), int64(19), object(3)\n",
      "memory usage: 315.4+ KB\n"
     ]
    }
   ],
   "source": [
    "info_file.info()"
   ]
  },
  {
   "cell_type": "code",
   "execution_count": null,
   "metadata": {
    "colab": {
     "base_uri": "https://localhost:8080/",
     "height": 304
    },
    "colab_type": "code",
    "id": "Ktd24wI4XffJ",
    "outputId": "c8d4693d-7fdb-4c73-a372-d8b4cc2f8692"
   },
   "outputs": [
    {
     "data": {
      "text/html": [
       "<div>\n",
       "<style scoped>\n",
       "    .dataframe tbody tr th:only-of-type {\n",
       "        vertical-align: middle;\n",
       "    }\n",
       "\n",
       "    .dataframe tbody tr th {\n",
       "        vertical-align: top;\n",
       "    }\n",
       "\n",
       "    .dataframe thead th {\n",
       "        text-align: right;\n",
       "    }\n",
       "</style>\n",
       "<table border=\"1\" class=\"dataframe\">\n",
       "  <thead>\n",
       "    <tr style=\"text-align: right;\">\n",
       "      <th></th>\n",
       "      <th>video_release_date</th>\n",
       "      <th>unknown</th>\n",
       "      <th>Action</th>\n",
       "      <th>Adventure</th>\n",
       "      <th>Animation</th>\n",
       "      <th>Children</th>\n",
       "      <th>Comedy</th>\n",
       "      <th>Crime</th>\n",
       "      <th>Documentary</th>\n",
       "      <th>Drama</th>\n",
       "      <th>Fantasy</th>\n",
       "      <th>Film-Noir</th>\n",
       "      <th>Horror</th>\n",
       "      <th>Musical</th>\n",
       "      <th>Mystery</th>\n",
       "      <th>Romance</th>\n",
       "      <th>Sci-Fi</th>\n",
       "      <th>Thriller</th>\n",
       "      <th>War</th>\n",
       "      <th>Western</th>\n",
       "    </tr>\n",
       "  </thead>\n",
       "  <tbody>\n",
       "    <tr>\n",
       "      <th>count</th>\n",
       "      <td>0.0</td>\n",
       "      <td>1682.000000</td>\n",
       "      <td>1682.000000</td>\n",
       "      <td>1682.000000</td>\n",
       "      <td>1682.000000</td>\n",
       "      <td>1682.000000</td>\n",
       "      <td>1682.000000</td>\n",
       "      <td>1682.000000</td>\n",
       "      <td>1682.000000</td>\n",
       "      <td>1682.000000</td>\n",
       "      <td>1682.00000</td>\n",
       "      <td>1682.000000</td>\n",
       "      <td>1682.000000</td>\n",
       "      <td>1682.000000</td>\n",
       "      <td>1682.000000</td>\n",
       "      <td>1682.000000</td>\n",
       "      <td>1682.000000</td>\n",
       "      <td>1682.000000</td>\n",
       "      <td>1682.000000</td>\n",
       "      <td>1682.000000</td>\n",
       "    </tr>\n",
       "    <tr>\n",
       "      <th>mean</th>\n",
       "      <td>NaN</td>\n",
       "      <td>0.001189</td>\n",
       "      <td>0.149227</td>\n",
       "      <td>0.080262</td>\n",
       "      <td>0.024970</td>\n",
       "      <td>0.072533</td>\n",
       "      <td>0.300238</td>\n",
       "      <td>0.064804</td>\n",
       "      <td>0.029727</td>\n",
       "      <td>0.431034</td>\n",
       "      <td>0.01308</td>\n",
       "      <td>0.014269</td>\n",
       "      <td>0.054697</td>\n",
       "      <td>0.033294</td>\n",
       "      <td>0.036266</td>\n",
       "      <td>0.146849</td>\n",
       "      <td>0.060048</td>\n",
       "      <td>0.149227</td>\n",
       "      <td>0.042212</td>\n",
       "      <td>0.016052</td>\n",
       "    </tr>\n",
       "    <tr>\n",
       "      <th>std</th>\n",
       "      <td>NaN</td>\n",
       "      <td>0.034473</td>\n",
       "      <td>0.356418</td>\n",
       "      <td>0.271779</td>\n",
       "      <td>0.156081</td>\n",
       "      <td>0.259445</td>\n",
       "      <td>0.458498</td>\n",
       "      <td>0.246253</td>\n",
       "      <td>0.169882</td>\n",
       "      <td>0.495368</td>\n",
       "      <td>0.11365</td>\n",
       "      <td>0.118632</td>\n",
       "      <td>0.227455</td>\n",
       "      <td>0.179456</td>\n",
       "      <td>0.187008</td>\n",
       "      <td>0.354061</td>\n",
       "      <td>0.237646</td>\n",
       "      <td>0.356418</td>\n",
       "      <td>0.201131</td>\n",
       "      <td>0.125714</td>\n",
       "    </tr>\n",
       "    <tr>\n",
       "      <th>min</th>\n",
       "      <td>NaN</td>\n",
       "      <td>0.000000</td>\n",
       "      <td>0.000000</td>\n",
       "      <td>0.000000</td>\n",
       "      <td>0.000000</td>\n",
       "      <td>0.000000</td>\n",
       "      <td>0.000000</td>\n",
       "      <td>0.000000</td>\n",
       "      <td>0.000000</td>\n",
       "      <td>0.000000</td>\n",
       "      <td>0.00000</td>\n",
       "      <td>0.000000</td>\n",
       "      <td>0.000000</td>\n",
       "      <td>0.000000</td>\n",
       "      <td>0.000000</td>\n",
       "      <td>0.000000</td>\n",
       "      <td>0.000000</td>\n",
       "      <td>0.000000</td>\n",
       "      <td>0.000000</td>\n",
       "      <td>0.000000</td>\n",
       "    </tr>\n",
       "    <tr>\n",
       "      <th>25%</th>\n",
       "      <td>NaN</td>\n",
       "      <td>0.000000</td>\n",
       "      <td>0.000000</td>\n",
       "      <td>0.000000</td>\n",
       "      <td>0.000000</td>\n",
       "      <td>0.000000</td>\n",
       "      <td>0.000000</td>\n",
       "      <td>0.000000</td>\n",
       "      <td>0.000000</td>\n",
       "      <td>0.000000</td>\n",
       "      <td>0.00000</td>\n",
       "      <td>0.000000</td>\n",
       "      <td>0.000000</td>\n",
       "      <td>0.000000</td>\n",
       "      <td>0.000000</td>\n",
       "      <td>0.000000</td>\n",
       "      <td>0.000000</td>\n",
       "      <td>0.000000</td>\n",
       "      <td>0.000000</td>\n",
       "      <td>0.000000</td>\n",
       "    </tr>\n",
       "    <tr>\n",
       "      <th>50%</th>\n",
       "      <td>NaN</td>\n",
       "      <td>0.000000</td>\n",
       "      <td>0.000000</td>\n",
       "      <td>0.000000</td>\n",
       "      <td>0.000000</td>\n",
       "      <td>0.000000</td>\n",
       "      <td>0.000000</td>\n",
       "      <td>0.000000</td>\n",
       "      <td>0.000000</td>\n",
       "      <td>0.000000</td>\n",
       "      <td>0.00000</td>\n",
       "      <td>0.000000</td>\n",
       "      <td>0.000000</td>\n",
       "      <td>0.000000</td>\n",
       "      <td>0.000000</td>\n",
       "      <td>0.000000</td>\n",
       "      <td>0.000000</td>\n",
       "      <td>0.000000</td>\n",
       "      <td>0.000000</td>\n",
       "      <td>0.000000</td>\n",
       "    </tr>\n",
       "    <tr>\n",
       "      <th>75%</th>\n",
       "      <td>NaN</td>\n",
       "      <td>0.000000</td>\n",
       "      <td>0.000000</td>\n",
       "      <td>0.000000</td>\n",
       "      <td>0.000000</td>\n",
       "      <td>0.000000</td>\n",
       "      <td>1.000000</td>\n",
       "      <td>0.000000</td>\n",
       "      <td>0.000000</td>\n",
       "      <td>1.000000</td>\n",
       "      <td>0.00000</td>\n",
       "      <td>0.000000</td>\n",
       "      <td>0.000000</td>\n",
       "      <td>0.000000</td>\n",
       "      <td>0.000000</td>\n",
       "      <td>0.000000</td>\n",
       "      <td>0.000000</td>\n",
       "      <td>0.000000</td>\n",
       "      <td>0.000000</td>\n",
       "      <td>0.000000</td>\n",
       "    </tr>\n",
       "    <tr>\n",
       "      <th>max</th>\n",
       "      <td>NaN</td>\n",
       "      <td>1.000000</td>\n",
       "      <td>1.000000</td>\n",
       "      <td>1.000000</td>\n",
       "      <td>1.000000</td>\n",
       "      <td>1.000000</td>\n",
       "      <td>1.000000</td>\n",
       "      <td>1.000000</td>\n",
       "      <td>1.000000</td>\n",
       "      <td>1.000000</td>\n",
       "      <td>1.00000</td>\n",
       "      <td>1.000000</td>\n",
       "      <td>1.000000</td>\n",
       "      <td>1.000000</td>\n",
       "      <td>1.000000</td>\n",
       "      <td>1.000000</td>\n",
       "      <td>1.000000</td>\n",
       "      <td>1.000000</td>\n",
       "      <td>1.000000</td>\n",
       "      <td>1.000000</td>\n",
       "    </tr>\n",
       "  </tbody>\n",
       "</table>\n",
       "</div>"
      ],
      "text/plain": [
       "       video_release_date      unknown       Action    Adventure    Animation  \\\n",
       "count                 0.0  1682.000000  1682.000000  1682.000000  1682.000000   \n",
       "mean                  NaN     0.001189     0.149227     0.080262     0.024970   \n",
       "std                   NaN     0.034473     0.356418     0.271779     0.156081   \n",
       "min                   NaN     0.000000     0.000000     0.000000     0.000000   \n",
       "25%                   NaN     0.000000     0.000000     0.000000     0.000000   \n",
       "50%                   NaN     0.000000     0.000000     0.000000     0.000000   \n",
       "75%                   NaN     0.000000     0.000000     0.000000     0.000000   \n",
       "max                   NaN     1.000000     1.000000     1.000000     1.000000   \n",
       "\n",
       "          Children       Comedy        Crime  Documentary        Drama  \\\n",
       "count  1682.000000  1682.000000  1682.000000  1682.000000  1682.000000   \n",
       "mean      0.072533     0.300238     0.064804     0.029727     0.431034   \n",
       "std       0.259445     0.458498     0.246253     0.169882     0.495368   \n",
       "min       0.000000     0.000000     0.000000     0.000000     0.000000   \n",
       "25%       0.000000     0.000000     0.000000     0.000000     0.000000   \n",
       "50%       0.000000     0.000000     0.000000     0.000000     0.000000   \n",
       "75%       0.000000     1.000000     0.000000     0.000000     1.000000   \n",
       "max       1.000000     1.000000     1.000000     1.000000     1.000000   \n",
       "\n",
       "          Fantasy    Film-Noir       Horror      Musical      Mystery  \\\n",
       "count  1682.00000  1682.000000  1682.000000  1682.000000  1682.000000   \n",
       "mean      0.01308     0.014269     0.054697     0.033294     0.036266   \n",
       "std       0.11365     0.118632     0.227455     0.179456     0.187008   \n",
       "min       0.00000     0.000000     0.000000     0.000000     0.000000   \n",
       "25%       0.00000     0.000000     0.000000     0.000000     0.000000   \n",
       "50%       0.00000     0.000000     0.000000     0.000000     0.000000   \n",
       "75%       0.00000     0.000000     0.000000     0.000000     0.000000   \n",
       "max       1.00000     1.000000     1.000000     1.000000     1.000000   \n",
       "\n",
       "           Romance       Sci-Fi     Thriller          War      Western  \n",
       "count  1682.000000  1682.000000  1682.000000  1682.000000  1682.000000  \n",
       "mean      0.146849     0.060048     0.149227     0.042212     0.016052  \n",
       "std       0.354061     0.237646     0.356418     0.201131     0.125714  \n",
       "min       0.000000     0.000000     0.000000     0.000000     0.000000  \n",
       "25%       0.000000     0.000000     0.000000     0.000000     0.000000  \n",
       "50%       0.000000     0.000000     0.000000     0.000000     0.000000  \n",
       "75%       0.000000     0.000000     0.000000     0.000000     0.000000  \n",
       "max       1.000000     1.000000     1.000000     1.000000     1.000000  "
      ]
     },
     "execution_count": 9,
     "metadata": {
      "tags": []
     },
     "output_type": "execute_result"
    }
   ],
   "source": [
    "info_file.describe()"
   ]
  },
  {
   "cell_type": "markdown",
   "metadata": {
    "colab_type": "text",
    "id": "X4Gm60h1XffL"
   },
   "source": [
    "Con las funciones `info` y `describe` de ***pandas*** es una buena forma de analizar a grandes rasgos un dataset."
   ]
  },
  {
   "cell_type": "markdown",
   "metadata": {
    "colab_type": "text",
    "id": "jqXxj773Foo8"
   },
   "source": [
    "## Cómo ver la información de una o más películas\n",
    "Para esto se hace 2 pasos, \n",
    "1. Determinar los índices de las películas.\n",
    "2. Pedir a `info_file` las columnas.\n",
    "3. (Adicional) Indicar alguna columna en específico."
   ]
  },
  {
   "cell_type": "code",
   "execution_count": null,
   "metadata": {
    "colab": {
     "base_uri": "https://localhost:8080/",
     "height": 286
    },
    "colab_type": "code",
    "id": "3JsjHzBFGqQI",
    "outputId": "e548ab64-7fad-4468-a3b2-e89a4f1f340f"
   },
   "outputs": [
    {
     "data": {
      "text/html": [
       "<div>\n",
       "<style scoped>\n",
       "    .dataframe tbody tr th:only-of-type {\n",
       "        vertical-align: middle;\n",
       "    }\n",
       "\n",
       "    .dataframe tbody tr th {\n",
       "        vertical-align: top;\n",
       "    }\n",
       "\n",
       "    .dataframe thead th {\n",
       "        text-align: right;\n",
       "    }\n",
       "</style>\n",
       "<table border=\"1\" class=\"dataframe\">\n",
       "  <thead>\n",
       "    <tr style=\"text-align: right;\">\n",
       "      <th></th>\n",
       "      <th>title</th>\n",
       "      <th>release_date</th>\n",
       "      <th>video_release_date</th>\n",
       "      <th>IMDb_URL</th>\n",
       "      <th>unknown</th>\n",
       "      <th>Action</th>\n",
       "      <th>Adventure</th>\n",
       "      <th>Animation</th>\n",
       "      <th>Children</th>\n",
       "      <th>Comedy</th>\n",
       "      <th>Crime</th>\n",
       "      <th>Documentary</th>\n",
       "      <th>Drama</th>\n",
       "      <th>Fantasy</th>\n",
       "      <th>Film-Noir</th>\n",
       "      <th>Horror</th>\n",
       "      <th>Musical</th>\n",
       "      <th>Mystery</th>\n",
       "      <th>Romance</th>\n",
       "      <th>Sci-Fi</th>\n",
       "      <th>Thriller</th>\n",
       "      <th>War</th>\n",
       "      <th>Western</th>\n",
       "    </tr>\n",
       "    <tr>\n",
       "      <th>movieid</th>\n",
       "      <th></th>\n",
       "      <th></th>\n",
       "      <th></th>\n",
       "      <th></th>\n",
       "      <th></th>\n",
       "      <th></th>\n",
       "      <th></th>\n",
       "      <th></th>\n",
       "      <th></th>\n",
       "      <th></th>\n",
       "      <th></th>\n",
       "      <th></th>\n",
       "      <th></th>\n",
       "      <th></th>\n",
       "      <th></th>\n",
       "      <th></th>\n",
       "      <th></th>\n",
       "      <th></th>\n",
       "      <th></th>\n",
       "      <th></th>\n",
       "      <th></th>\n",
       "      <th></th>\n",
       "      <th></th>\n",
       "    </tr>\n",
       "  </thead>\n",
       "  <tbody>\n",
       "    <tr>\n",
       "      <th>5</th>\n",
       "      <td>Copycat (1995)</td>\n",
       "      <td>01-Jan-1995</td>\n",
       "      <td>NaN</td>\n",
       "      <td>http://us.imdb.com/M/title-exact?Copycat%20(1995)</td>\n",
       "      <td>0</td>\n",
       "      <td>0</td>\n",
       "      <td>0</td>\n",
       "      <td>0</td>\n",
       "      <td>0</td>\n",
       "      <td>0</td>\n",
       "      <td>1</td>\n",
       "      <td>0</td>\n",
       "      <td>1</td>\n",
       "      <td>0</td>\n",
       "      <td>0</td>\n",
       "      <td>0</td>\n",
       "      <td>0</td>\n",
       "      <td>0</td>\n",
       "      <td>0</td>\n",
       "      <td>0</td>\n",
       "      <td>1</td>\n",
       "      <td>0</td>\n",
       "      <td>0</td>\n",
       "    </tr>\n",
       "    <tr>\n",
       "      <th>4</th>\n",
       "      <td>Get Shorty (1995)</td>\n",
       "      <td>01-Jan-1995</td>\n",
       "      <td>NaN</td>\n",
       "      <td>http://us.imdb.com/M/title-exact?Get%20Shorty%...</td>\n",
       "      <td>0</td>\n",
       "      <td>1</td>\n",
       "      <td>0</td>\n",
       "      <td>0</td>\n",
       "      <td>0</td>\n",
       "      <td>1</td>\n",
       "      <td>0</td>\n",
       "      <td>0</td>\n",
       "      <td>1</td>\n",
       "      <td>0</td>\n",
       "      <td>0</td>\n",
       "      <td>0</td>\n",
       "      <td>0</td>\n",
       "      <td>0</td>\n",
       "      <td>0</td>\n",
       "      <td>0</td>\n",
       "      <td>0</td>\n",
       "      <td>0</td>\n",
       "      <td>0</td>\n",
       "    </tr>\n",
       "    <tr>\n",
       "      <th>1</th>\n",
       "      <td>Toy Story (1995)</td>\n",
       "      <td>01-Jan-1995</td>\n",
       "      <td>NaN</td>\n",
       "      <td>http://us.imdb.com/M/title-exact?Toy%20Story%2...</td>\n",
       "      <td>0</td>\n",
       "      <td>0</td>\n",
       "      <td>0</td>\n",
       "      <td>1</td>\n",
       "      <td>1</td>\n",
       "      <td>1</td>\n",
       "      <td>0</td>\n",
       "      <td>0</td>\n",
       "      <td>0</td>\n",
       "      <td>0</td>\n",
       "      <td>0</td>\n",
       "      <td>0</td>\n",
       "      <td>0</td>\n",
       "      <td>0</td>\n",
       "      <td>0</td>\n",
       "      <td>0</td>\n",
       "      <td>0</td>\n",
       "      <td>0</td>\n",
       "      <td>0</td>\n",
       "    </tr>\n",
       "  </tbody>\n",
       "</table>\n",
       "</div>"
      ],
      "text/plain": [
       "                     title release_date  video_release_date  \\\n",
       "movieid                                                       \n",
       "5           Copycat (1995)  01-Jan-1995                 NaN   \n",
       "4        Get Shorty (1995)  01-Jan-1995                 NaN   \n",
       "1         Toy Story (1995)  01-Jan-1995                 NaN   \n",
       "\n",
       "                                                  IMDb_URL  unknown  Action  \\\n",
       "movieid                                                                       \n",
       "5        http://us.imdb.com/M/title-exact?Copycat%20(1995)        0       0   \n",
       "4        http://us.imdb.com/M/title-exact?Get%20Shorty%...        0       1   \n",
       "1        http://us.imdb.com/M/title-exact?Toy%20Story%2...        0       0   \n",
       "\n",
       "         Adventure  Animation  Children  Comedy  Crime  Documentary  Drama  \\\n",
       "movieid                                                                      \n",
       "5                0          0         0       0      1            0      1   \n",
       "4                0          0         0       1      0            0      1   \n",
       "1                0          1         1       1      0            0      0   \n",
       "\n",
       "         Fantasy  Film-Noir  Horror  Musical  Mystery  Romance  Sci-Fi  \\\n",
       "movieid                                                                  \n",
       "5              0          0       0        0        0        0       0   \n",
       "4              0          0       0        0        0        0       0   \n",
       "1              0          0       0        0        0        0       0   \n",
       "\n",
       "         Thriller  War  Western  \n",
       "movieid                          \n",
       "5               1    0        0  \n",
       "4               0    0        0  \n",
       "1               0    0        0  "
      ]
     },
     "execution_count": 10,
     "metadata": {
      "tags": []
     },
     "output_type": "execute_result"
    }
   ],
   "source": [
    "# Ejemplo de cómo visualizar títulos de películas en base a sus IDs\n",
    "pelis = [5,4,1]\n",
    "info_file.loc[pelis]"
   ]
  },
  {
   "cell_type": "markdown",
   "metadata": {
    "colab_type": "text",
    "id": "2YDbWo18GwAT"
   },
   "source": [
    "Para éste código:\n",
    "1. `pelis = [5,4,1]` indica que queremos las películas cuyo índice son 5, 4 y 1.\n",
    "2. `info_file.loc[pelis]` el método `loc` permite acceder a esas columna\n",
    "A continuación se verá cómo obtener una columna en específico. Para esto solo es necesario agregar corchetes y el nombre de la columna."
   ]
  },
  {
   "cell_type": "code",
   "execution_count": null,
   "metadata": {
    "colab": {
     "base_uri": "https://localhost:8080/",
     "height": 105
    },
    "colab_type": "code",
    "id": "gZZ3g-n7G9EY",
    "outputId": "075a08a9-ee03-434f-fa2f-51b83bae51e8"
   },
   "outputs": [
    {
     "data": {
      "text/plain": [
       "movieid\n",
       "5       Copycat (1995)\n",
       "4    Get Shorty (1995)\n",
       "1     Toy Story (1995)\n",
       "Name: title, dtype: object"
      ]
     },
     "execution_count": 11,
     "metadata": {
      "tags": []
     },
     "output_type": "execute_result"
    }
   ],
   "source": [
    "info_file.loc[pelis]['title']"
   ]
  },
  {
   "cell_type": "markdown",
   "metadata": {
    "colab_type": "text",
    "id": "P3K5VPZoGSYX"
   },
   "source": [
    "## Instalar Pyreclab\n",
    "\n",
    "Primero es necesario instalar la librería [***pyreclab***](https://github.com/gasevi/pyreclab) desarrollada por Gabriel Sepulveda miembro del IALab y ex-estudiante del curso."
   ]
  },
  {
   "cell_type": "code",
   "execution_count": null,
   "metadata": {
    "colab": {
     "base_uri": "https://localhost:8080/",
     "height": 125
    },
    "colab_type": "code",
    "id": "nbtrMHvG6uIt",
    "outputId": "05066bdf-7be0-4b17-c4a4-e701eb07d966"
   },
   "outputs": [
    {
     "name": "stdout",
     "output_type": "stream",
     "text": [
      "Collecting pyreclab\n",
      "\u001b[?25l  Downloading https://files.pythonhosted.org/packages/23/4f/22999d293268e98efae9e80b7d2d4a372b025051de22558e649c7fc69539/pyreclab-0.1.14-cp36-cp36m-manylinux1_x86_64.whl (184kB)\n",
      "\u001b[K     |████████████████████████████████| 194kB 2.8MB/s \n",
      "\u001b[?25hInstalling collected packages: pyreclab\n",
      "Successfully installed pyreclab-0.1.14\n"
     ]
    }
   ],
   "source": [
    "!pip install pyreclab"
   ]
  },
  {
   "cell_type": "markdown",
   "metadata": {
    "colab_type": "text",
    "id": "8xjAMaNz-4dO"
   },
   "source": [
    "Luego necesitamos importar pyreclab y numpy, 2 librerías a utilizar en este tutorial."
   ]
  },
  {
   "cell_type": "code",
   "execution_count": null,
   "metadata": {
    "colab": {},
    "colab_type": "code",
    "id": "nv7g1e_i6wBY"
   },
   "outputs": [],
   "source": [
    "import pyreclab\n",
    "import numpy as np"
   ]
  },
  {
   "cell_type": "markdown",
   "metadata": {
    "colab_type": "text",
    "id": "FqgkF0dNMo9c"
   },
   "source": [
    "# ItemKNN\n",
    "\n",
    "1. Entrenar el modelo.\n",
    "2. Prediga el rating que le dará un usuario a un ítem. El usuario e ítem quedan a tu criterio.\n",
    "3. Generar una lista de 5 recomendaciones para un usuario e indique qué películas son.\n"
   ]
  },
  {
   "cell_type": "markdown",
   "metadata": {
    "colab_type": "text",
    "id": "nyiS5jAydggW"
   },
   "source": [
    "## Entrenar el modelo\n",
    "\n",
    "Lo primero que se debe hacer es entrenar el modelo, con los datos descargados anteriormente. "
   ]
  },
  {
   "cell_type": "code",
   "execution_count": null,
   "metadata": {
    "colab": {},
    "colab_type": "code",
    "id": "MasaNvW4O05J"
   },
   "outputs": [],
   "source": [
    "myItemKnn = pyreclab.ItemKnn(dataset='u1.base', dlmchar=b'\\t', header=False, usercol=0, itemcol=1, ratingcol=2)"
   ]
  },
  {
   "cell_type": "code",
   "execution_count": null,
   "metadata": {
    "colab": {},
    "colab_type": "code",
    "id": "6otSnu3QIYIT"
   },
   "outputs": [],
   "source": [
    "#Train the model\n",
    "myItemKnn.train(k=7, similarity='cosine')"
   ]
  },
  {
   "cell_type": "markdown",
   "metadata": {
    "colab_type": "text",
    "id": "c-tasjVmdj9Z"
   },
   "source": [
    "## Prediga el rating que le dará un usuario a un ítem"
   ]
  },
  {
   "cell_type": "markdown",
   "metadata": {
    "colab_type": "text",
    "id": "8HJgaOdkRLDK"
   },
   "source": [
    "model_name.predict(\"user_id\", \"item_id\")"
   ]
  },
  {
   "cell_type": "code",
   "execution_count": null,
   "metadata": {
    "colab": {
     "base_uri": "https://localhost:8080/",
     "height": 34
    },
    "colab_type": "code",
    "id": "-WZ8UbiuImSz",
    "outputId": "c749c653-e7ef-4079-f38c-55899186c2ed"
   },
   "outputs": [
    {
     "data": {
      "text/plain": [
       "2.932706117630005"
      ]
     },
     "execution_count": 16,
     "metadata": {
      "tags": []
     },
     "output_type": "execute_result"
    }
   ],
   "source": [
    "myItemKnn.predict(\"457\", \"37\")"
   ]
  },
  {
   "cell_type": "markdown",
   "metadata": {
    "colab_type": "text",
    "id": "Ka67uLNmdoqD"
   },
   "source": [
    "## Genera una lista de 5 recomendaciones para un usuario e indique qué películas son"
   ]
  },
  {
   "cell_type": "markdown",
   "metadata": {
    "colab_type": "text",
    "id": "T0heHCo9RjJN"
   },
   "source": [
    "Genera 5 recomendaciones para el usuario \"457\"."
   ]
  },
  {
   "cell_type": "code",
   "execution_count": null,
   "metadata": {
    "colab": {
     "base_uri": "https://localhost:8080/",
     "height": 140
    },
    "colab_type": "code",
    "id": "6VU65ML-Is2V",
    "outputId": "cd39d5c9-6d27-4b94-c90f-4735335df5a2"
   },
   "outputs": [
    {
     "data": {
      "text/plain": [
       "movieid\n",
       "1122                They Made Me a Criminal (1939)\n",
       "1467          Saint of Fort Washington, The (1993)\n",
       "1599                 Someone Else's America (1995)\n",
       "1201    Marlene Dietrich: Shadow and Light (1996) \n",
       "1064                              Crossfire (1947)\n",
       "Name: title, dtype: object"
      ]
     },
     "execution_count": 17,
     "metadata": {
      "tags": []
     },
     "output_type": "execute_result"
    }
   ],
   "source": [
    "reclist_itemKnn = myItemKnn.recommend(\"457\", 5)\n",
    "pelis_itemKnn = np.array(reclist_itemKnn).astype(int)\n",
    "info_file.loc[pelis_itemKnn]['title']"
   ]
  },
  {
   "cell_type": "markdown",
   "metadata": {
    "colab_type": "text",
    "id": "or0YkBeF8eeC"
   },
   "source": [
    "## Explorar los hiperparámetros del modelo ***ItemKnn***"
   ]
  },
  {
   "cell_type": "markdown",
   "metadata": {
    "colab_type": "text",
    "id": "pkH7_ILbR7ga"
   },
   "source": [
    "Uno de los parámetros que vamos a explorar es el número de vecinos escogidos (Items), para esto calculamos el error del modelo con varios valores de vecinos y observamos cómo es el comportamiento del error. "
   ]
  },
  {
   "cell_type": "code",
   "execution_count": null,
   "metadata": {
    "colab": {
     "base_uri": "https://localhost:8080/",
     "height": 34
    },
    "colab_type": "code",
    "id": "LgpWD0CW8eeC",
    "outputId": "ca2e5480-7253-4098-bd1d-336949202c4c"
   },
   "outputs": [
    {
     "name": "stdout",
     "output_type": "stream",
     "text": [
      "[0.951746703954097, 0.924552677311984, 0.9193991435698929, 0.9233174098499202]\n"
     ]
    }
   ],
   "source": [
    "k_values = [5, 10, 30, 50] # definir distintos valores de vecinos (k)\n",
    "mae_values = [] # para almacenar resultados de MAE\n",
    "rmse_values = [] # para almacenar valores de RMSE\n",
    "\n",
    "for k in k_values:  \n",
    "  myItemKnn.train(k,'cosine')\n",
    "  predlist, mae, rmse = myItemKnn.test( input_file = 'u1.test',dlmchar = b'\\t', header = False, usercol = 0, itemcol = 1, ratingcol = 2, output_file = 'predictions.csv' )\n",
    "  rmse_values.append(rmse)   \n",
    "\n",
    "print(rmse_values)"
   ]
  },
  {
   "cell_type": "code",
   "execution_count": null,
   "metadata": {
    "colab": {
     "base_uri": "https://localhost:8080/",
     "height": 265
    },
    "colab_type": "code",
    "id": "k-_lshzC8eeG",
    "outputId": "8d5f25a8-f755-4541-a8ee-f60df1712040"
   },
   "outputs": [
    {
     "data": {
      "image/png": "[encoded data removed]",
      "text/plain": [
       "<Figure size 432x288 with 1 Axes>"
      ]
     },
     "metadata": {
      "needs_background": "light",
      "tags": []
     },
     "output_type": "display_data"
    }
   ],
   "source": [
    "import matplotlib.pyplot as plt\n",
    "%matplotlib inline\n",
    "\n",
    "plt.plot(k_values, rmse_values, 'r-')\n",
    "plt.plot(k_values, rmse_values, 'bo')\n",
    "plt.show()"
   ]
  },
  {
   "cell_type": "markdown",
   "metadata": {
    "colab_type": "text",
    "id": "GdnDoKiU8eeH"
   },
   "source": [
    "\n",
    "\n",
    "Según los resultados: ¿Qué número de vecinos es mejor para hacer recomendaciones con un menor error de predicción?"
   ]
  },
  {
   "cell_type": "markdown",
   "metadata": {
    "colab_type": "text",
    "id": "mx0jmt648eeI"
   },
   "source": [
    "El mejor número de vecinos es aquel con el que se obtiene el menor error, por ende es igual a 30. "
   ]
  },
  {
   "cell_type": "markdown",
   "metadata": {
    "colab_type": "text",
    "id": "UBhpsDHnTsvh"
   },
   "source": [
    "Posteriormente, volvemos a entrenar el modelo con un k = 30 y se observan los resultados. ¿Estos son mejores que los obtenidos anteriormente (k = 7)?¿Por qué?. "
   ]
  },
  {
   "cell_type": "code",
   "execution_count": null,
   "metadata": {
    "colab": {},
    "colab_type": "code",
    "id": "qC1VrOmnTg_a"
   },
   "outputs": [],
   "source": [
    "myItemKnn.train(k=30, similarity='cosine')"
   ]
  },
  {
   "cell_type": "code",
   "execution_count": null,
   "metadata": {
    "colab": {
     "base_uri": "https://localhost:8080/",
     "height": 140
    },
    "colab_type": "code",
    "id": "Nsd8aVevTrvf",
    "outputId": "6722930e-7726-4202-ec29-493801821200"
   },
   "outputs": [
    {
     "data": {
      "text/plain": [
       "movieid\n",
       "1201    Marlene Dietrich: Shadow and Light (1996) \n",
       "1512        World of Apu, The (Apur Sansar) (1959)\n",
       "1467          Saint of Fort Washington, The (1993)\n",
       "1599                 Someone Else's America (1995)\n",
       "1064                              Crossfire (1947)\n",
       "Name: title, dtype: object"
      ]
     },
     "execution_count": 21,
     "metadata": {
      "tags": []
     },
     "output_type": "execute_result"
    }
   ],
   "source": [
    "reclist_itemKnn = myItemKnn.recommend(\"457\", 5)\n",
    "pelis_itemKnn = np.array(reclist_itemKnn).astype(int)\n",
    "info_file.loc[pelis_itemKnn]['title']"
   ]
  },
  {
   "cell_type": "markdown",
   "metadata": {
    "colab_type": "text",
    "id": "GdnDoKiU8eeH"
   },
   "source": [
    "**Repita este análisis usando como métrica de similaridad \"pearson\" y compare:**"
   ]
  },
  {
   "cell_type": "code",
   "execution_count": null,
   "metadata": {},
   "outputs": [],
   "source": []
  }
 ],
 "metadata": {
  "accelerator": "GPU",
  "colab": {
   "collapsed_sections": [],
   "name": "pyRecLab_iKNN.ipynb",
   "provenance": [],
   "toc_visible": true
  },
  "kernelspec": {
   "display_name": "Python 3",
   "language": "python",
   "name": "python3"
  },
  "language_info": {
   "codemirror_mode": {
    "name": "ipython",
    "version": 3
   },
   "file_extension": ".py",
   "mimetype": "text/x-python",
   "name": "python",
   "nbconvert_exporter": "python",
   "pygments_lexer": "ipython3",
   "version": "3.6.0"
  },
  "toc": {
   "base_numbering": 1,
   "nav_menu": {},
   "number_sections": true,
   "sideBar": true,
   "skip_h1_title": false,
   "title_cell": "Table of Contents",
   "title_sidebar": "Contents",
   "toc_cell": false,
   "toc_position": {},
   "toc_section_display": true,
   "toc_window_display": false
  },
  "varInspector": {
   "cols": {
    "lenName": 16,
    "lenType": 16,
    "lenVar": 40
   },
   "kernels_config": {
    "python": {
     "delete_cmd_postfix": "",
     "delete_cmd_prefix": "del ",
     "library": "var_list.py",
     "varRefreshCmd": "print(var_dic_list())"
    },
    "r": {
     "delete_cmd_postfix": ") ",
     "delete_cmd_prefix": "rm(",
     "library": "var_list.r",
     "varRefreshCmd": "cat(var_dic_list()) "
    }
   },
   "types_to_exclude": [
    "module",
    "function",
    "builtin_function_or_method",
    "instance",
    "_Feature"
   ],
   "window_display": false
  }
 },
 "nbformat": 4,
 "nbformat_minor": 1
}
