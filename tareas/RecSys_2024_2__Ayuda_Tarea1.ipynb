{
  "cells": [
    {
      "cell_type": "markdown",
      "metadata": {
        "id": "aTVm5ln4TjT-"
      },
      "source": [
        "# Práctico de Ayuda para Tarea 1"
      ]
    },
    {
      "cell_type": "markdown",
      "metadata": {
        "id": "IFpEoacrMwQx"
      },
      "source": [
        "## Configuración inicial"
      ]
    },
    {
      "cell_type": "markdown",
      "metadata": {
        "id": "TJon9T5ZMwRG"
      },
      "source": [
        "Instalamos las librerías a utilizar"
      ]
    },
    {
      "cell_type": "code",
      "execution_count": 1,
      "metadata": {
        "colab": {
          "base_uri": "https://localhost:8080/"
        },
        "id": "rtscg3KuMwRL",
        "outputId": "06d2fe2c-1e6e-42f2-c633-c9a009eca5bd"
      },
      "outputs": [
        {
          "output_type": "stream",
          "name": "stdout",
          "text": [
            "Collecting pyreclab\n",
            "  Downloading pyreclab-0.1.16-cp310-cp310-manylinux2014_x86_64.whl.metadata (307 bytes)\n",
            "Downloading pyreclab-0.1.16-cp310-cp310-manylinux2014_x86_64.whl (267 kB)\n",
            "\u001b[2K   \u001b[90m━━━━━━━━━━━━━━━━━━━━━━━━━━━━━━━━━━━━━━━━\u001b[0m \u001b[32m267.2/267.2 kB\u001b[0m \u001b[31m6.7 MB/s\u001b[0m eta \u001b[36m0:00:00\u001b[0m\n",
            "\u001b[?25hInstalling collected packages: pyreclab\n",
            "Successfully installed pyreclab-0.1.16\n"
          ]
        }
      ],
      "source": [
        "!pip install pyreclab --upgrade"
      ]
    },
    {
      "cell_type": "code",
      "execution_count": 2,
      "metadata": {
        "colab": {
          "base_uri": "https://localhost:8080/"
        },
        "id": "BuBJTOMPIPmy",
        "outputId": "e12a970b-69c8-4b98-f930-1d25c5110df7"
      },
      "outputs": [
        {
          "output_type": "stream",
          "name": "stdout",
          "text": [
            "Requirement already satisfied: psutil in /usr/local/lib/python3.10/dist-packages (5.9.5)\n"
          ]
        }
      ],
      "source": [
        "!pip install psutil"
      ]
    },
    {
      "cell_type": "code",
      "execution_count": 3,
      "metadata": {
        "colab": {
          "base_uri": "https://localhost:8080/"
        },
        "id": "ekJCXINiE9Bk",
        "outputId": "03aa409b-7fe2-4bba-ca51-dddeddf02d3e"
      },
      "outputs": [
        {
          "output_type": "stream",
          "name": "stdout",
          "text": [
            "Collecting implicit\n",
            "  Downloading implicit-0.7.2-cp310-cp310-manylinux2014_x86_64.whl.metadata (6.1 kB)\n",
            "Requirement already satisfied: numpy>=1.17.0 in /usr/local/lib/python3.10/dist-packages (from implicit) (1.26.4)\n",
            "Requirement already satisfied: scipy>=0.16 in /usr/local/lib/python3.10/dist-packages (from implicit) (1.13.1)\n",
            "Requirement already satisfied: tqdm>=4.27 in /usr/local/lib/python3.10/dist-packages (from implicit) (4.66.5)\n",
            "Requirement already satisfied: threadpoolctl in /usr/local/lib/python3.10/dist-packages (from implicit) (3.5.0)\n",
            "Downloading implicit-0.7.2-cp310-cp310-manylinux2014_x86_64.whl (8.9 MB)\n",
            "\u001b[2K   \u001b[90m━━━━━━━━━━━━━━━━━━━━━━━━━━━━━━━━━━━━━━━━\u001b[0m \u001b[32m8.9/8.9 MB\u001b[0m \u001b[31m47.1 MB/s\u001b[0m eta \u001b[36m0:00:00\u001b[0m\n",
            "\u001b[?25hInstalling collected packages: implicit\n",
            "Successfully installed implicit-0.7.2\n"
          ]
        }
      ],
      "source": [
        "!pip install implicit"
      ]
    },
    {
      "cell_type": "markdown",
      "metadata": {
        "id": "Qrn07EY8THvm"
      },
      "source": [
        "Importamos las librerías"
      ]
    },
    {
      "cell_type": "code",
      "execution_count": 4,
      "metadata": {
        "id": "3Ii2pB-LO0Xy"
      },
      "outputs": [],
      "source": [
        "import pandas as pd\n",
        "import pyreclab\n",
        "import numpy as np\n",
        "import scipy.sparse as sparse\n",
        "import implicit\n",
        "from sklearn.metrics.pairwise import cosine_similarity\n",
        "import psutil\n",
        "import time\n",
        "import math\n",
        "\n",
        "%matplotlib inline"
      ]
    },
    {
      "cell_type": "markdown",
      "metadata": {
        "id": "YQc4ctd7TJyu"
      },
      "source": [
        "Cargamos los sets de datos"
      ]
    },
    {
      "cell_type": "code",
      "execution_count": 5,
      "metadata": {
        "id": "7qBx_m_tS7WE"
      },
      "outputs": [],
      "source": [
        "trainfile =  pd.read_csv('training_set.csv')\n",
        "validfile =  pd.read_csv('validation_set.csv')\n",
        "items_styles = pd.read_csv('items_styles.csv')"
      ]
    },
    {
      "cell_type": "markdown",
      "metadata": {
        "id": "Bb_uBopzMwRY"
      },
      "source": [
        "Antes de recomendar siempre hay que realizar un análisis de datos."
      ]
    },
    {
      "cell_type": "code",
      "execution_count": 6,
      "metadata": {
        "colab": {
          "base_uri": "https://localhost:8080/",
          "height": 206
        },
        "id": "zT11_REYOyFO",
        "outputId": "a672a88b-1deb-4c35-fb4b-f3b9816e437b"
      },
      "outputs": [
        {
          "output_type": "execute_result",
          "data": {
            "text/plain": [
              "   userID  itemID  styleID  rating\n",
              "0     401   32780    12224     3.0\n",
              "1    7548   21688     9020     3.5\n",
              "2    7663    1521      568     4.0\n",
              "3    1357    3824     1417     3.5\n",
              "4    1361     727      263     4.5"
            ],
            "text/html": [
              "\n",
              "  <div id=\"df-814b4ffd-47d5-49a8-9ca3-22b97acd7232\" class=\"colab-df-container\">\n",
              "    <div>\n",
              "<style scoped>\n",
              "    .dataframe tbody tr th:only-of-type {\n",
              "        vertical-align: middle;\n",
              "    }\n",
              "\n",
              "    .dataframe tbody tr th {\n",
              "        vertical-align: top;\n",
              "    }\n",
              "\n",
              "    .dataframe thead th {\n",
              "        text-align: right;\n",
              "    }\n",
              "</style>\n",
              "<table border=\"1\" class=\"dataframe\">\n",
              "  <thead>\n",
              "    <tr style=\"text-align: right;\">\n",
              "      <th></th>\n",
              "      <th>userID</th>\n",
              "      <th>itemID</th>\n",
              "      <th>styleID</th>\n",
              "      <th>rating</th>\n",
              "    </tr>\n",
              "  </thead>\n",
              "  <tbody>\n",
              "    <tr>\n",
              "      <th>0</th>\n",
              "      <td>401</td>\n",
              "      <td>32780</td>\n",
              "      <td>12224</td>\n",
              "      <td>3.0</td>\n",
              "    </tr>\n",
              "    <tr>\n",
              "      <th>1</th>\n",
              "      <td>7548</td>\n",
              "      <td>21688</td>\n",
              "      <td>9020</td>\n",
              "      <td>3.5</td>\n",
              "    </tr>\n",
              "    <tr>\n",
              "      <th>2</th>\n",
              "      <td>7663</td>\n",
              "      <td>1521</td>\n",
              "      <td>568</td>\n",
              "      <td>4.0</td>\n",
              "    </tr>\n",
              "    <tr>\n",
              "      <th>3</th>\n",
              "      <td>1357</td>\n",
              "      <td>3824</td>\n",
              "      <td>1417</td>\n",
              "      <td>3.5</td>\n",
              "    </tr>\n",
              "    <tr>\n",
              "      <th>4</th>\n",
              "      <td>1361</td>\n",
              "      <td>727</td>\n",
              "      <td>263</td>\n",
              "      <td>4.5</td>\n",
              "    </tr>\n",
              "  </tbody>\n",
              "</table>\n",
              "</div>\n",
              "    <div class=\"colab-df-buttons\">\n",
              "\n",
              "  <div class=\"colab-df-container\">\n",
              "    <button class=\"colab-df-convert\" onclick=\"convertToInteractive('df-814b4ffd-47d5-49a8-9ca3-22b97acd7232')\"\n",
              "            title=\"Convert this dataframe to an interactive table.\"\n",
              "            style=\"display:none;\">\n",
              "\n",
              "  <svg xmlns=\"http://www.w3.org/2000/svg\" height=\"24px\" viewBox=\"0 -960 960 960\">\n",
              "    <path d=\"M120-120v-720h720v720H120Zm60-500h600v-160H180v160Zm220 220h160v-160H400v160Zm0 220h160v-160H400v160ZM180-400h160v-160H180v160Zm440 0h160v-160H620v160ZM180-180h160v-160H180v160Zm440 0h160v-160H620v160Z\"/>\n",
              "  </svg>\n",
              "    </button>\n",
              "\n",
              "  <style>\n",
              "    .colab-df-container {\n",
              "      display:flex;\n",
              "      gap: 12px;\n",
              "    }\n",
              "\n",
              "    .colab-df-convert {\n",
              "      background-color: #E8F0FE;\n",
              "      border: none;\n",
              "      border-radius: 50%;\n",
              "      cursor: pointer;\n",
              "      display: none;\n",
              "      fill: #1967D2;\n",
              "      height: 32px;\n",
              "      padding: 0 0 0 0;\n",
              "      width: 32px;\n",
              "    }\n",
              "\n",
              "    .colab-df-convert:hover {\n",
              "      background-color: #E2EBFA;\n",
              "      box-shadow: 0px 1px 2px rgba(60, 64, 67, 0.3), 0px 1px 3px 1px rgba(60, 64, 67, 0.15);\n",
              "      fill: #174EA6;\n",
              "    }\n",
              "\n",
              "    .colab-df-buttons div {\n",
              "      margin-bottom: 4px;\n",
              "    }\n",
              "\n",
              "    [theme=dark] .colab-df-convert {\n",
              "      background-color: #3B4455;\n",
              "      fill: #D2E3FC;\n",
              "    }\n",
              "\n",
              "    [theme=dark] .colab-df-convert:hover {\n",
              "      background-color: #434B5C;\n",
              "      box-shadow: 0px 1px 3px 1px rgba(0, 0, 0, 0.15);\n",
              "      filter: drop-shadow(0px 1px 2px rgba(0, 0, 0, 0.3));\n",
              "      fill: #FFFFFF;\n",
              "    }\n",
              "  </style>\n",
              "\n",
              "    <script>\n",
              "      const buttonEl =\n",
              "        document.querySelector('#df-814b4ffd-47d5-49a8-9ca3-22b97acd7232 button.colab-df-convert');\n",
              "      buttonEl.style.display =\n",
              "        google.colab.kernel.accessAllowed ? 'block' : 'none';\n",
              "\n",
              "      async function convertToInteractive(key) {\n",
              "        const element = document.querySelector('#df-814b4ffd-47d5-49a8-9ca3-22b97acd7232');\n",
              "        const dataTable =\n",
              "          await google.colab.kernel.invokeFunction('convertToInteractive',\n",
              "                                                    [key], {});\n",
              "        if (!dataTable) return;\n",
              "\n",
              "        const docLinkHtml = 'Like what you see? Visit the ' +\n",
              "          '<a target=\"_blank\" href=https://colab.research.google.com/notebooks/data_table.ipynb>data table notebook</a>'\n",
              "          + ' to learn more about interactive tables.';\n",
              "        element.innerHTML = '';\n",
              "        dataTable['output_type'] = 'display_data';\n",
              "        await google.colab.output.renderOutput(dataTable, element);\n",
              "        const docLink = document.createElement('div');\n",
              "        docLink.innerHTML = docLinkHtml;\n",
              "        element.appendChild(docLink);\n",
              "      }\n",
              "    </script>\n",
              "  </div>\n",
              "\n",
              "\n",
              "<div id=\"df-c38566e2-5c81-4450-9182-d0d66793f2cb\">\n",
              "  <button class=\"colab-df-quickchart\" onclick=\"quickchart('df-c38566e2-5c81-4450-9182-d0d66793f2cb')\"\n",
              "            title=\"Suggest charts\"\n",
              "            style=\"display:none;\">\n",
              "\n",
              "<svg xmlns=\"http://www.w3.org/2000/svg\" height=\"24px\"viewBox=\"0 0 24 24\"\n",
              "     width=\"24px\">\n",
              "    <g>\n",
              "        <path d=\"M19 3H5c-1.1 0-2 .9-2 2v14c0 1.1.9 2 2 2h14c1.1 0 2-.9 2-2V5c0-1.1-.9-2-2-2zM9 17H7v-7h2v7zm4 0h-2V7h2v10zm4 0h-2v-4h2v4z\"/>\n",
              "    </g>\n",
              "</svg>\n",
              "  </button>\n",
              "\n",
              "<style>\n",
              "  .colab-df-quickchart {\n",
              "      --bg-color: #E8F0FE;\n",
              "      --fill-color: #1967D2;\n",
              "      --hover-bg-color: #E2EBFA;\n",
              "      --hover-fill-color: #174EA6;\n",
              "      --disabled-fill-color: #AAA;\n",
              "      --disabled-bg-color: #DDD;\n",
              "  }\n",
              "\n",
              "  [theme=dark] .colab-df-quickchart {\n",
              "      --bg-color: #3B4455;\n",
              "      --fill-color: #D2E3FC;\n",
              "      --hover-bg-color: #434B5C;\n",
              "      --hover-fill-color: #FFFFFF;\n",
              "      --disabled-bg-color: #3B4455;\n",
              "      --disabled-fill-color: #666;\n",
              "  }\n",
              "\n",
              "  .colab-df-quickchart {\n",
              "    background-color: var(--bg-color);\n",
              "    border: none;\n",
              "    border-radius: 50%;\n",
              "    cursor: pointer;\n",
              "    display: none;\n",
              "    fill: var(--fill-color);\n",
              "    height: 32px;\n",
              "    padding: 0;\n",
              "    width: 32px;\n",
              "  }\n",
              "\n",
              "  .colab-df-quickchart:hover {\n",
              "    background-color: var(--hover-bg-color);\n",
              "    box-shadow: 0 1px 2px rgba(60, 64, 67, 0.3), 0 1px 3px 1px rgba(60, 64, 67, 0.15);\n",
              "    fill: var(--button-hover-fill-color);\n",
              "  }\n",
              "\n",
              "  .colab-df-quickchart-complete:disabled,\n",
              "  .colab-df-quickchart-complete:disabled:hover {\n",
              "    background-color: var(--disabled-bg-color);\n",
              "    fill: var(--disabled-fill-color);\n",
              "    box-shadow: none;\n",
              "  }\n",
              "\n",
              "  .colab-df-spinner {\n",
              "    border: 2px solid var(--fill-color);\n",
              "    border-color: transparent;\n",
              "    border-bottom-color: var(--fill-color);\n",
              "    animation:\n",
              "      spin 1s steps(1) infinite;\n",
              "  }\n",
              "\n",
              "  @keyframes spin {\n",
              "    0% {\n",
              "      border-color: transparent;\n",
              "      border-bottom-color: var(--fill-color);\n",
              "      border-left-color: var(--fill-color);\n",
              "    }\n",
              "    20% {\n",
              "      border-color: transparent;\n",
              "      border-left-color: var(--fill-color);\n",
              "      border-top-color: var(--fill-color);\n",
              "    }\n",
              "    30% {\n",
              "      border-color: transparent;\n",
              "      border-left-color: var(--fill-color);\n",
              "      border-top-color: var(--fill-color);\n",
              "      border-right-color: var(--fill-color);\n",
              "    }\n",
              "    40% {\n",
              "      border-color: transparent;\n",
              "      border-right-color: var(--fill-color);\n",
              "      border-top-color: var(--fill-color);\n",
              "    }\n",
              "    60% {\n",
              "      border-color: transparent;\n",
              "      border-right-color: var(--fill-color);\n",
              "    }\n",
              "    80% {\n",
              "      border-color: transparent;\n",
              "      border-right-color: var(--fill-color);\n",
              "      border-bottom-color: var(--fill-color);\n",
              "    }\n",
              "    90% {\n",
              "      border-color: transparent;\n",
              "      border-bottom-color: var(--fill-color);\n",
              "    }\n",
              "  }\n",
              "</style>\n",
              "\n",
              "  <script>\n",
              "    async function quickchart(key) {\n",
              "      const quickchartButtonEl =\n",
              "        document.querySelector('#' + key + ' button');\n",
              "      quickchartButtonEl.disabled = true;  // To prevent multiple clicks.\n",
              "      quickchartButtonEl.classList.add('colab-df-spinner');\n",
              "      try {\n",
              "        const charts = await google.colab.kernel.invokeFunction(\n",
              "            'suggestCharts', [key], {});\n",
              "      } catch (error) {\n",
              "        console.error('Error during call to suggestCharts:', error);\n",
              "      }\n",
              "      quickchartButtonEl.classList.remove('colab-df-spinner');\n",
              "      quickchartButtonEl.classList.add('colab-df-quickchart-complete');\n",
              "    }\n",
              "    (() => {\n",
              "      let quickchartButtonEl =\n",
              "        document.querySelector('#df-c38566e2-5c81-4450-9182-d0d66793f2cb button');\n",
              "      quickchartButtonEl.style.display =\n",
              "        google.colab.kernel.accessAllowed ? 'block' : 'none';\n",
              "    })();\n",
              "  </script>\n",
              "</div>\n",
              "\n",
              "    </div>\n",
              "  </div>\n"
            ],
            "application/vnd.google.colaboratory.intrinsic+json": {
              "type": "dataframe",
              "variable_name": "trainfile",
              "summary": "{\n  \"name\": \"trainfile\",\n  \"rows\": 35534,\n  \"fields\": [\n    {\n      \"column\": \"userID\",\n      \"properties\": {\n        \"dtype\": \"number\",\n        \"std\": 2400,\n        \"min\": 1,\n        \"max\": 8320,\n        \"num_unique_values\": 8320,\n        \"samples\": [\n          973,\n          4631,\n          5010\n        ],\n        \"semantic_type\": \"\",\n        \"description\": \"\"\n      }\n    },\n    {\n      \"column\": \"itemID\",\n      \"properties\": {\n        \"dtype\": \"number\",\n        \"std\": 18522,\n        \"min\": 175,\n        \"max\": 77207,\n        \"num_unique_values\": 1692,\n        \"samples\": [\n          14014,\n          42904,\n          60122\n        ],\n        \"semantic_type\": \"\",\n        \"description\": \"\"\n      }\n    },\n    {\n      \"column\": \"styleID\",\n      \"properties\": {\n        \"dtype\": \"number\",\n        \"std\": 5012,\n        \"min\": 1,\n        \"max\": 27797,\n        \"num_unique_values\": 202,\n        \"samples\": [\n          1463,\n          395,\n          2446\n        ],\n        \"semantic_type\": \"\",\n        \"description\": \"\"\n      }\n    },\n    {\n      \"column\": \"rating\",\n      \"properties\": {\n        \"dtype\": \"number\",\n        \"std\": 0.714725781279515,\n        \"min\": 0.0,\n        \"max\": 5.0,\n        \"num_unique_values\": 10,\n        \"samples\": [\n          1.5,\n          3.5,\n          5.0\n        ],\n        \"semantic_type\": \"\",\n        \"description\": \"\"\n      }\n    }\n  ]\n}"
            }
          },
          "metadata": {},
          "execution_count": 6
        }
      ],
      "source": [
        "trainfile.head()"
      ]
    },
    {
      "cell_type": "markdown",
      "metadata": {
        "id": "cKYbD4T-OCtj"
      },
      "source": [
        "## Generar y entrenar modelo"
      ]
    },
    {
      "cell_type": "markdown",
      "metadata": {
        "id": "wlcVpjZuevao"
      },
      "source": [
        "Para este práctico se usará como ejemplo FunkSVD y ALS, pero recuerden realizar el análisis para todos los algoritmos pedidos en el enunciado."
      ]
    },
    {
      "cell_type": "markdown",
      "metadata": {
        "id": "sm73DgGBG4pi"
      },
      "source": [
        "### Preprocesamiento de los datos a formato sparse"
      ]
    },
    {
      "cell_type": "code",
      "execution_count": 8,
      "metadata": {
        "id": "PIjOjU77FV6D"
      },
      "outputs": [],
      "source": [
        "user_items = {}\n",
        "itemset = set()\n",
        "\n",
        "for row in trainfile.itertuples():\n",
        "    if row[1] not in user_items:\n",
        "        user_items[row[1]] = []\n",
        "\n",
        "    user_items[row[1]].append(row[2])\n",
        "    itemset.add(row[2])\n",
        "\n",
        "# Recordar que se tiene set con los itemID ordenados de los items\n",
        "itemset = np.sort(list(itemset))\n",
        "\n",
        "sparse_matrix = np.zeros((len(user_items), len(itemset)))\n",
        "\n",
        "for i, items in enumerate(user_items.values()):\n",
        "    sparse_matrix[i] = np.isin(itemset, items, assume_unique=True).astype(int)\n",
        "\n",
        "matrix = sparse.csr_matrix(sparse_matrix.T)\n",
        "\n",
        "user_ids = {key: i for i, key in enumerate(user_items.keys())}\n",
        "user_item_matrix = matrix.T.tocsr()"
      ]
    },
    {
      "cell_type": "markdown",
      "metadata": {
        "id": "OLEG10rrG_tj"
      },
      "source": [
        "### Entrenamiento de los modelos"
      ]
    },
    {
      "cell_type": "code",
      "execution_count": 7,
      "metadata": {
        "id": "WnOWyXQ1FhFq"
      },
      "outputs": [],
      "source": [
        "svd = pyreclab.SVD(dataset='training_set.csv', dlmchar=b',', header=False, usercol=0, itemcol=1, ratingcol=3)\n",
        "svd.train(factors=100, maxiter=100, lr=0.01, lamb=0.1)"
      ]
    },
    {
      "cell_type": "code",
      "execution_count": 9,
      "metadata": {
        "colab": {
          "base_uri": "https://localhost:8080/",
          "height": 105,
          "referenced_widgets": [
            "d9e1cae0f13242bc9d24cc25056468da",
            "5b8d0d36d442481aa3429c0efda931ed",
            "392e96ad55e94877a0aa23482949d5e7",
            "7c386b3bd668414cac00124db07d0e3a",
            "acccf95632434e57874840a454ab88d8",
            "d7abbef2d36b488da51a2e55c87121c0",
            "6b5a4ad862f640369dc2d156a495e397",
            "1997a8e29ce44de79be90da5a9c07a2a",
            "a11c7a1ba4d94a6ab62d16ab8086717a",
            "70937650fae04b3382d4d6d18b1d1bc0",
            "837ed5d9991e4e0291547310b787f1da"
          ]
        },
        "id": "BlA6kxJXFkpa",
        "outputId": "fb259cb2-f857-46af-db88-5b44dd86fca2"
      },
      "outputs": [
        {
          "output_type": "stream",
          "name": "stderr",
          "text": [
            "/usr/local/lib/python3.10/dist-packages/implicit/cpu/als.py:95: RuntimeWarning: OpenBLAS is configured to use 2 threads. It is highly recommended to disable its internal threadpool by setting the environment variable 'OPENBLAS_NUM_THREADS=1' or by calling 'threadpoolctl.threadpool_limits(1, \"blas\")'. Having OpenBLAS use a threadpool can lead to severe performance issues here.\n",
            "  check_blas_config()\n"
          ]
        },
        {
          "output_type": "display_data",
          "data": {
            "text/plain": [
              "  0%|          | 0/10 [00:00<?, ?it/s]"
            ],
            "application/vnd.jupyter.widget-view+json": {
              "version_major": 2,
              "version_minor": 0,
              "model_id": "d9e1cae0f13242bc9d24cc25056468da"
            }
          },
          "metadata": {}
        }
      ],
      "source": [
        "model_als = implicit.als.AlternatingLeastSquares(factors=100, iterations=10)\n",
        "model_als.fit(user_item_matrix)"
      ]
    },
    {
      "cell_type": "markdown",
      "metadata": {
        "id": "vbImVCzzYseS"
      },
      "source": [
        "## Obtener métricas de recomendación"
      ]
    },
    {
      "cell_type": "markdown",
      "metadata": {
        "id": "33mqJOkzWK8Z"
      },
      "source": [
        "### MAE Y RMSE"
      ]
    },
    {
      "cell_type": "code",
      "execution_count": null,
      "metadata": {
        "colab": {
          "base_uri": "https://localhost:8080/"
        },
        "id": "Kfa_xg-hWNRV",
        "outputId": "cfd9caf6-c0c2-4529-c8bf-be844c526631"
      },
      "outputs": [
        {
          "name": "stdout",
          "output_type": "stream",
          "text": [
            "MAE: 0.4461956109027944\n",
            "RMSE: 0.596232686353075\n"
          ]
        }
      ],
      "source": [
        "predlist, mae, rmse = svd.test(input_file='validation_set.csv',\n",
        "                               dlmchar=b',',\n",
        "                               header=False,\n",
        "                               usercol=0,\n",
        "                               itemcol=1,\n",
        "                               ratingcol=3)\n",
        "\n",
        "print('MAE: {}\\nRMSE: {}'.format(mae, rmse))"
      ]
    },
    {
      "cell_type": "code",
      "execution_count": null,
      "metadata": {
        "colab": {
          "base_uri": "https://localhost:8080/"
        },
        "id": "Vu5PzZhhQyQF",
        "outputId": "440cf94e-3e12-49b0-cc04-1678df35d753"
      },
      "outputs": [
        {
          "data": {
            "text/plain": [
              "3.794656753540039"
            ]
          },
          "execution_count": 28,
          "metadata": {},
          "output_type": "execute_result"
        }
      ],
      "source": [
        "svd.predict('401', '7324')"
      ]
    },
    {
      "cell_type": "markdown",
      "metadata": {
        "id": "Z3gM5Ze6Wzoe"
      },
      "source": [
        "Tras identificar el mejor modelo, utilizar estos valores de predicción para completar el archivo *rating_template_fill.csv*\n",
        "\n",
        "**IMPORTANTE:** Al igual que en la vida real, en el archivo se pide colocar un rating para items que no se encuentran en el dataset. Para esto, pueden utilizar el rating promedio de los items, del usuario correspondiente o del dataset."
      ]
    },
    {
      "cell_type": "markdown",
      "metadata": {
        "id": "55I6jB91PaHw"
      },
      "source": [
        "### MAP y NDCG"
      ]
    },
    {
      "cell_type": "code",
      "execution_count": null,
      "metadata": {
        "colab": {
          "base_uri": "https://localhost:8080/"
        },
        "id": "84Mhz6COZEWJ",
        "outputId": "b279e15d-79c1-46c1-e0d1-0bd78ee4aa98"
      },
      "outputs": [
        {
          "name": "stdout",
          "output_type": "stream",
          "text": [
            "MAP: 0.007197419291226195\n",
            "NDCG@10: 0.005794055223542524\n"
          ]
        }
      ],
      "source": [
        "top_n = 10\n",
        "\n",
        "recommendList, maprec, ndcg = svd.testrec(input_file='validation_set.csv',\n",
        "                                          dlmchar=b',',\n",
        "                                          header=False,\n",
        "                                          usercol=0,\n",
        "                                          itemcol=1,\n",
        "                                          ratingcol=3,\n",
        "                                          topn=top_n,\n",
        "                                          relevance_threshold=2,\n",
        "                                          includeRated=False)\n",
        "\n",
        "print('MAP: {}\\nNDCG@{}: {}'.format(maprec, top_n, ndcg))"
      ]
    },
    {
      "cell_type": "markdown",
      "source": [
        "Estas métricas también pueden ser obtenidas directamente desde su definición oficial, implementadas como funciones. Esta manera de obtención se recomienda al utilizar modelos de Implicit"
      ],
      "metadata": {
        "id": "bfOuKP4ZEk77"
      }
    },
    {
      "cell_type": "code",
      "execution_count": 10,
      "metadata": {
        "id": "5T3d4Z78Efk1"
      },
      "outputs": [],
      "source": [
        "def precision_at_k(r, k):\n",
        "    assert k >= 1\n",
        "    r = np.asarray(r)[:k] != 0\n",
        "    if r.size != k:\n",
        "        raise ValueError('Relevance score length < k')\n",
        "    return np.mean(r)\n",
        "\n",
        "def average_precision(r):\n",
        "    r = np.asarray(r) != 0\n",
        "    out = [precision_at_k(r, k + 1) for k in range(r.size) if r[k]]\n",
        "    if not out:\n",
        "        return 0.\n",
        "    return np.mean(out)\n",
        "\n",
        "def mean_average_precision(rel_vector):\n",
        "    return np.mean([average_precision(r) for r in rel_vector])"
      ]
    },
    {
      "cell_type": "code",
      "execution_count": 11,
      "metadata": {
        "id": "-5X6Qw1DEfk1"
      },
      "outputs": [],
      "source": [
        "def dcg_at_k(r, k):\n",
        "    r = np.asfarray(r)[:k]\n",
        "    if r.size:\n",
        "        return np.sum(np.subtract(np.power(2, r), 1) / np.log2(np.arange(2, r.size + 2)))\n",
        "    return 0.\n",
        "\n",
        "\n",
        "def ndcg_at_k(rel_vector, k):\n",
        "    idcg = dcg_at_k(sorted(rel_vector, reverse=True), k)\n",
        "\n",
        "    if not idcg:\n",
        "        return 0.\n",
        "    return dcg_at_k(rel_vector, k) / idcg"
      ]
    },
    {
      "cell_type": "code",
      "execution_count": 12,
      "metadata": {
        "id": "XNmmAyeuEfk2"
      },
      "outputs": [],
      "source": [
        "def evaluate_model(model, user_items_test, n):\n",
        "  mean_map = 0.\n",
        "  mean_ndcg = 0.\n",
        "  for u in user_items_test.keys():\n",
        "    rec = model.recommend(u, user_item_matrix[u], n)[0]\n",
        "    rel_vector = [np.isin(user_items_test[u], rec, assume_unique=True).astype(int)]\n",
        "    mean_map += mean_average_precision(rel_vector)\n",
        "    mean_ndcg += ndcg_at_k(rel_vector, n)\n",
        "\n",
        "  mean_map /= len(user_items_test)\n",
        "  mean_ndcg /= len(user_items_test)\n",
        "\n",
        "  return mean_map, mean_ndcg"
      ]
    },
    {
      "cell_type": "code",
      "execution_count": 19,
      "metadata": {
        "colab": {
          "base_uri": "https://localhost:8080/"
        },
        "id": "Dlk1P1TQEfk2",
        "outputId": "a1613289-45f3-4d7d-f274-edf2f6457f58"
      },
      "outputs": [
        {
          "output_type": "stream",
          "name": "stdout",
          "text": [
            "MAP: 0.0009530791788856305\n",
            "NDCG@10: 0.0011730205278592375\n"
          ]
        }
      ],
      "source": [
        "top_n = 10\n",
        "\n",
        "user_item_valid = validfile.groupby('userID')['itemID'].apply(list).to_dict()\n",
        "map, ndcg = evaluate_model(model_als, user_item_valid, top_n)\n",
        "\n",
        "print('MAP: {}\\nNDCG@{}: {}'.format(map, top_n, ndcg))"
      ]
    },
    {
      "cell_type": "markdown",
      "metadata": {
        "id": "ryNVBnslPRa4"
      },
      "source": [
        "### Recall"
      ]
    },
    {
      "cell_type": "code",
      "execution_count": null,
      "metadata": {
        "colab": {
          "base_uri": "https://localhost:8080/"
        },
        "id": "ajYeu3G1ZuJR",
        "outputId": "7931f258-440f-4e16-cfd4-09266933c918"
      },
      "outputs": [
        {
          "name": "stdout",
          "output_type": "stream",
          "text": [
            "FunkSVD: Recommendation for user 5401: [11895, 35351, 32283, 17070, 36039, 12181, 47658, 66592, 32306, 40980]\n",
            "ALS: Recommendation for user 5401: [1414, 5916, 8555, 26201, 10265, 36270, 18293, 515, 51917, 38552]\n"
          ]
        }
      ],
      "source": [
        "user_id = 5401\n",
        "ranking = [int(r) for r in svd.recommend(str(user_id), top_n, includeRated=False)]\n",
        "als_ranking = list(model_als.recommend(userid=user_id, user_items=user_item_matrix[user_id], N=top_n)[0])\n",
        "als_ranking = [itemset[r] for r in als_ranking]\n",
        "\n",
        "print('FunkSVD: Recommendation for user {}: {}'.format(user_id, ranking))\n",
        "print('ALS: Recommendation for user {}: {}'.format(user_id, als_ranking))"
      ]
    },
    {
      "cell_type": "code",
      "execution_count": null,
      "metadata": {
        "colab": {
          "base_uri": "https://localhost:8080/"
        },
        "id": "_HXkeI99ZIxK",
        "outputId": "b4913a7d-2e13-42af-b542-f432e76091b9"
      },
      "outputs": [
        {
          "name": "stdout",
          "output_type": "stream",
          "text": [
            "Relevants items for user 5401: [17538, 21822, 20478, 5441, 19960]\n"
          ]
        }
      ],
      "source": [
        "user_ratings = validfile[validfile['userID'] == user_id]\n",
        "average_rating = user_ratings['rating'].mean()\n",
        "relevants_items = user_ratings['itemID'].tolist()\n",
        "\n",
        "print('Relevants items for user {}: {}'.format(user_id, relevants_items))"
      ]
    },
    {
      "cell_type": "code",
      "execution_count": null,
      "metadata": {
        "id": "848vGSHN5LGb"
      },
      "outputs": [],
      "source": [
        "def recall_at_k(relevant_items, recommended_items, k):\n",
        "    relevant_items = set(relevant_items)\n",
        "    recommended_items = set(recommended_items[:k])\n",
        "    intersection = relevant_items.intersection(recommended_items)\n",
        "    recall = len(intersection) / len(relevant_items)\n",
        "    return recall"
      ]
    },
    {
      "cell_type": "code",
      "execution_count": null,
      "metadata": {
        "colab": {
          "base_uri": "https://localhost:8080/"
        },
        "id": "IGd7QCsGRBL4",
        "outputId": "78221f01-0c69-4a50-8fae-1bea17300676"
      },
      "outputs": [
        {
          "name": "stdout",
          "output_type": "stream",
          "text": [
            "FunkSVD recall: 0.0\n",
            "ALS recall: 0.0\n"
          ]
        }
      ],
      "source": [
        "recall = svd.recall(str(user_id), ranking, relevance_threshold=2)\n",
        "item_recall = recall_at_k(relevants_items, als_ranking, top_n)\n",
        "\n",
        "print('FunkSVD recall: {}'.format(recall))\n",
        "print('ALS recall: {}'.format(item_recall))"
      ]
    },
    {
      "cell_type": "code",
      "execution_count": null,
      "metadata": {
        "colab": {
          "base_uri": "https://localhost:8080/"
        },
        "id": "Ty-Ukt3aRMtA",
        "outputId": "6131e582-5c9e-4ce1-feaf-1e4bd7c9349b"
      },
      "outputs": [
        {
          "name": "stdout",
          "output_type": "stream",
          "text": [
            "Recall del dataset: 0.0\n"
          ]
        }
      ],
      "source": [
        "recall_score = 0\n",
        "recommendations = {}\n",
        "\n",
        "for user_id in validfile['userID'].unique():\n",
        "  ranking = [int(r) for r in svd.recommend(str(user_id), top_n, includeRated=False)]\n",
        "  recall_score += svd.recall(str(user_id), ranking)\n",
        "  recommendations[user_id] = ranking\n",
        "\n",
        "print('Recall del dataset: {}'.format(recall_score / len(validfile['userID'].unique())))"
      ]
    },
    {
      "cell_type": "markdown",
      "metadata": {
        "id": "po3NncAZWA27"
      },
      "source": [
        "Cuando identifiquen su mejor modelo, usan el diccionario con las listas de recomendación para completar el archivo *ranking_template_fill.json*"
      ]
    },
    {
      "cell_type": "markdown",
      "metadata": {
        "id": "OWwx9llta3PB"
      },
      "source": [
        "## Obtener métricas de diversidad y novedad"
      ]
    },
    {
      "cell_type": "markdown",
      "metadata": {
        "id": "8ysa899KY0og"
      },
      "source": [
        "### Diversidad"
      ]
    },
    {
      "cell_type": "code",
      "execution_count": null,
      "metadata": {
        "colab": {
          "base_uri": "https://localhost:8080/"
        },
        "id": "AWeRPMSda2mv",
        "outputId": "82380314-7077-406a-e48d-e8933038de6a"
      },
      "outputs": [
        {
          "name": "stdout",
          "output_type": "stream",
          "text": [
            "Diversidad: 0.9\n"
          ]
        }
      ],
      "source": [
        "item_categories = items_styles.set_index('itemID')['styleID'].to_dict()\n",
        "categorias_recomendadas = [item_categories[item] for item in ranking]\n",
        "\n",
        "# Calcular la proporción de categorías únicas\n",
        "categorias_unicas = len(set(categorias_recomendadas))\n",
        "diversidad = categorias_unicas / len(ranking)\n",
        "print('Diversidad: {}'.format(diversidad))"
      ]
    },
    {
      "cell_type": "markdown",
      "metadata": {
        "id": "iSuaRc2fY211"
      },
      "source": [
        "### Novedad"
      ]
    },
    {
      "cell_type": "markdown",
      "metadata": {
        "id": "j0jgA7ATczaO"
      },
      "source": [
        "Primero se obtiene la popularidad de cada item. Para esto utilizaremos el set de entrenamiento."
      ]
    },
    {
      "cell_type": "code",
      "execution_count": null,
      "metadata": {
        "id": "-a5ZAhcGcvcF"
      },
      "outputs": [],
      "source": [
        "item_counts = trainfile['itemID'].value_counts()\n",
        "total_interacciones = len(trainfile)\n",
        "items_popularity = item_counts / total_interacciones\n",
        "items_popularity = items_popularity.to_dict()"
      ]
    },
    {
      "cell_type": "code",
      "execution_count": null,
      "metadata": {
        "id": "_jbOlu9UHlI7"
      },
      "outputs": [],
      "source": [
        "def calcular_novedad(recomendaciones_usuarios):\n",
        "    num_usuarios = len(recomendaciones_usuarios)\n",
        "    novedad_total = 0\n",
        "\n",
        "    for usuario, recomendaciones in recomendaciones_usuarios.items():\n",
        "        novedad_usuario = 0\n",
        "\n",
        "        for item in recomendaciones:\n",
        "            novedad_usuario += np.log(1 / items_popularity[item])\n",
        "\n",
        "        novedad_total += novedad_usuario / len(recomendaciones)\n",
        "\n",
        "    novedad_promedio = novedad_total / num_usuarios\n",
        "    return novedad_promedio"
      ]
    },
    {
      "cell_type": "code",
      "execution_count": null,
      "metadata": {
        "colab": {
          "base_uri": "https://localhost:8080/"
        },
        "id": "4m4D6nTISj0-",
        "outputId": "84798b14-d69e-42af-e076-1f3d0eda4640"
      },
      "outputs": [
        {
          "name": "stdout",
          "output_type": "stream",
          "text": [
            "Novedad: 9.560081491731518\n"
          ]
        }
      ],
      "source": [
        "novedad = calcular_novedad(recommendations)\n",
        "print('Novedad: {}'.format(novedad))"
      ]
    },
    {
      "cell_type": "markdown",
      "metadata": {
        "id": "pHbuMEeGn8tR"
      },
      "source": [
        "## Obtener métricas de entrenamiento"
      ]
    },
    {
      "cell_type": "markdown",
      "metadata": {
        "id": "-jDgZoo_Y8S5"
      },
      "source": [
        "### Tiempo de Ejecución"
      ]
    },
    {
      "cell_type": "code",
      "execution_count": null,
      "metadata": {
        "colab": {
          "base_uri": "https://localhost:8080/"
        },
        "id": "Y_rqFNXWIL5d",
        "outputId": "34075337-d687-4da2-e6ab-d155b42da540"
      },
      "outputs": [
        {
          "name": "stdout",
          "output_type": "stream",
          "text": [
            "Tiempo de entrenamiento: 4.55519437789917 segundos\n"
          ]
        }
      ],
      "source": [
        "# Iniciar el temporizador\n",
        "start_time = time.time()\n",
        "\n",
        "# Entrenamiento del modelo\n",
        "svd.train(factors=100, maxiter=100, lr=0.01, lamb=0.1)\n",
        "\n",
        "# Detener el temporizador\n",
        "end_time = time.time()\n",
        "\n",
        "print(f\"Tiempo de entrenamiento: {end_time - start_time} segundos\")"
      ]
    },
    {
      "cell_type": "markdown",
      "metadata": {
        "id": "9sJxxRO2ZAGa"
      },
      "source": [
        "### Memoria Utilizada"
      ]
    },
    {
      "cell_type": "code",
      "execution_count": null,
      "metadata": {
        "colab": {
          "base_uri": "https://localhost:8080/"
        },
        "id": "hlNvZ6VWoAbq",
        "outputId": "e4e4e9cb-dc78-46d5-9527-81e3e5a03451"
      },
      "outputs": [
        {
          "name": "stdout",
          "output_type": "stream",
          "text": [
            "Memoria utilizada: 16.671875 MB\n"
          ]
        }
      ],
      "source": [
        "# Obtener información de memoria antes del entrenamiento\n",
        "mem_info_before = psutil.virtual_memory().used\n",
        "\n",
        "# Entrenamiento del modelo\n",
        "svd.train(factors=100, maxiter=100, lr=0.01, lamb=0.1)\n",
        "\n",
        "# Obtener información de memoria después del entrenamiento\n",
        "mem_info_after = psutil.virtual_memory().used\n",
        "\n",
        "# Calcular el uso de memoria durante el entrenamiento\n",
        "memory_used = (mem_info_after - mem_info_before) / (1024 ** 2)  # Convertir a MB\n",
        "\n",
        "print(f\"Memoria utilizada: {memory_used} MB\")\n"
      ]
    },
    {
      "cell_type": "markdown",
      "metadata": {
        "id": "81AAt9jXWISE"
      },
      "source": [
        "### Uso de CPU"
      ]
    },
    {
      "cell_type": "code",
      "execution_count": null,
      "metadata": {
        "colab": {
          "base_uri": "https://localhost:8080/"
        },
        "id": "-Q22HH8yIxiI",
        "outputId": "3f05bb2f-83b5-4a92-b715-abd658434505"
      },
      "outputs": [
        {
          "name": "stdout",
          "output_type": "stream",
          "text": [
            "Uso de CPU: 31.6%\n"
          ]
        }
      ],
      "source": [
        "# Obtener el uso de CPU antes del entrenamiento\n",
        "cpu_usage_before = psutil.cpu_percent(interval=None)\n",
        "\n",
        "# Entrenamiento del modelo\n",
        "svd.train(factors=100, maxiter=100, lr=0.01, lamb=0.1)\n",
        "\n",
        "# Obtener el uso de CPU después del entrenamiento\n",
        "cpu_usage_after = psutil.cpu_percent(interval=None)\n",
        "\n",
        "print(f\"Uso de CPU: {cpu_usage_after - cpu_usage_before}%\")"
      ]
    }
  ],
  "metadata": {
    "colab": {
      "provenance": []
    },
    "kernelspec": {
      "display_name": "Python 3",
      "name": "python3"
    },
    "language_info": {
      "codemirror_mode": {
        "name": "ipython",
        "version": 3
      },
      "file_extension": ".py",
      "mimetype": "text/x-python",
      "name": "python",
      "nbconvert_exporter": "python",
      "pygments_lexer": "ipython3",
      "version": "3.6.0"
    },
    "toc": {
      "base_numbering": 1,
      "nav_menu": {},
      "number_sections": true,
      "sideBar": true,
      "skip_h1_title": false,
      "title_cell": "Table of Contents",
      "title_sidebar": "Contents",
      "toc_cell": false,
      "toc_position": {},
      "toc_section_display": true,
      "toc_window_display": false
    },
    "widgets": {
      "application/vnd.jupyter.widget-state+json": {
        "d9e1cae0f13242bc9d24cc25056468da": {
          "model_module": "@jupyter-widgets/controls",
          "model_name": "HBoxModel",
          "model_module_version": "1.5.0",
          "state": {
            "_dom_classes": [],
            "_model_module": "@jupyter-widgets/controls",
            "_model_module_version": "1.5.0",
            "_model_name": "HBoxModel",
            "_view_count": null,
            "_view_module": "@jupyter-widgets/controls",
            "_view_module_version": "1.5.0",
            "_view_name": "HBoxView",
            "box_style": "",
            "children": [
              "IPY_MODEL_5b8d0d36d442481aa3429c0efda931ed",
              "IPY_MODEL_392e96ad55e94877a0aa23482949d5e7",
              "IPY_MODEL_7c386b3bd668414cac00124db07d0e3a"
            ],
            "layout": "IPY_MODEL_acccf95632434e57874840a454ab88d8"
          }
        },
        "5b8d0d36d442481aa3429c0efda931ed": {
          "model_module": "@jupyter-widgets/controls",
          "model_name": "HTMLModel",
          "model_module_version": "1.5.0",
          "state": {
            "_dom_classes": [],
            "_model_module": "@jupyter-widgets/controls",
            "_model_module_version": "1.5.0",
            "_model_name": "HTMLModel",
            "_view_count": null,
            "_view_module": "@jupyter-widgets/controls",
            "_view_module_version": "1.5.0",
            "_view_name": "HTMLView",
            "description": "",
            "description_tooltip": null,
            "layout": "IPY_MODEL_d7abbef2d36b488da51a2e55c87121c0",
            "placeholder": "​",
            "style": "IPY_MODEL_6b5a4ad862f640369dc2d156a495e397",
            "value": "100%"
          }
        },
        "392e96ad55e94877a0aa23482949d5e7": {
          "model_module": "@jupyter-widgets/controls",
          "model_name": "FloatProgressModel",
          "model_module_version": "1.5.0",
          "state": {
            "_dom_classes": [],
            "_model_module": "@jupyter-widgets/controls",
            "_model_module_version": "1.5.0",
            "_model_name": "FloatProgressModel",
            "_view_count": null,
            "_view_module": "@jupyter-widgets/controls",
            "_view_module_version": "1.5.0",
            "_view_name": "ProgressView",
            "bar_style": "success",
            "description": "",
            "description_tooltip": null,
            "layout": "IPY_MODEL_1997a8e29ce44de79be90da5a9c07a2a",
            "max": 10,
            "min": 0,
            "orientation": "horizontal",
            "style": "IPY_MODEL_a11c7a1ba4d94a6ab62d16ab8086717a",
            "value": 10
          }
        },
        "7c386b3bd668414cac00124db07d0e3a": {
          "model_module": "@jupyter-widgets/controls",
          "model_name": "HTMLModel",
          "model_module_version": "1.5.0",
          "state": {
            "_dom_classes": [],
            "_model_module": "@jupyter-widgets/controls",
            "_model_module_version": "1.5.0",
            "_model_name": "HTMLModel",
            "_view_count": null,
            "_view_module": "@jupyter-widgets/controls",
            "_view_module_version": "1.5.0",
            "_view_name": "HTMLView",
            "description": "",
            "description_tooltip": null,
            "layout": "IPY_MODEL_70937650fae04b3382d4d6d18b1d1bc0",
            "placeholder": "​",
            "style": "IPY_MODEL_837ed5d9991e4e0291547310b787f1da",
            "value": " 10/10 [00:01&lt;00:00,  6.32it/s]"
          }
        },
        "acccf95632434e57874840a454ab88d8": {
          "model_module": "@jupyter-widgets/base",
          "model_name": "LayoutModel",
          "model_module_version": "1.2.0",
          "state": {
            "_model_module": "@jupyter-widgets/base",
            "_model_module_version": "1.2.0",
            "_model_name": "LayoutModel",
            "_view_count": null,
            "_view_module": "@jupyter-widgets/base",
            "_view_module_version": "1.2.0",
            "_view_name": "LayoutView",
            "align_content": null,
            "align_items": null,
            "align_self": null,
            "border": null,
            "bottom": null,
            "display": null,
            "flex": null,
            "flex_flow": null,
            "grid_area": null,
            "grid_auto_columns": null,
            "grid_auto_flow": null,
            "grid_auto_rows": null,
            "grid_column": null,
            "grid_gap": null,
            "grid_row": null,
            "grid_template_areas": null,
            "grid_template_columns": null,
            "grid_template_rows": null,
            "height": null,
            "justify_content": null,
            "justify_items": null,
            "left": null,
            "margin": null,
            "max_height": null,
            "max_width": null,
            "min_height": null,
            "min_width": null,
            "object_fit": null,
            "object_position": null,
            "order": null,
            "overflow": null,
            "overflow_x": null,
            "overflow_y": null,
            "padding": null,
            "right": null,
            "top": null,
            "visibility": null,
            "width": null
          }
        },
        "d7abbef2d36b488da51a2e55c87121c0": {
          "model_module": "@jupyter-widgets/base",
          "model_name": "LayoutModel",
          "model_module_version": "1.2.0",
          "state": {
            "_model_module": "@jupyter-widgets/base",
            "_model_module_version": "1.2.0",
            "_model_name": "LayoutModel",
            "_view_count": null,
            "_view_module": "@jupyter-widgets/base",
            "_view_module_version": "1.2.0",
            "_view_name": "LayoutView",
            "align_content": null,
            "align_items": null,
            "align_self": null,
            "border": null,
            "bottom": null,
            "display": null,
            "flex": null,
            "flex_flow": null,
            "grid_area": null,
            "grid_auto_columns": null,
            "grid_auto_flow": null,
            "grid_auto_rows": null,
            "grid_column": null,
            "grid_gap": null,
            "grid_row": null,
            "grid_template_areas": null,
            "grid_template_columns": null,
            "grid_template_rows": null,
            "height": null,
            "justify_content": null,
            "justify_items": null,
            "left": null,
            "margin": null,
            "max_height": null,
            "max_width": null,
            "min_height": null,
            "min_width": null,
            "object_fit": null,
            "object_position": null,
            "order": null,
            "overflow": null,
            "overflow_x": null,
            "overflow_y": null,
            "padding": null,
            "right": null,
            "top": null,
            "visibility": null,
            "width": null
          }
        },
        "6b5a4ad862f640369dc2d156a495e397": {
          "model_module": "@jupyter-widgets/controls",
          "model_name": "DescriptionStyleModel",
          "model_module_version": "1.5.0",
          "state": {
            "_model_module": "@jupyter-widgets/controls",
            "_model_module_version": "1.5.0",
            "_model_name": "DescriptionStyleModel",
            "_view_count": null,
            "_view_module": "@jupyter-widgets/base",
            "_view_module_version": "1.2.0",
            "_view_name": "StyleView",
            "description_width": ""
          }
        },
        "1997a8e29ce44de79be90da5a9c07a2a": {
          "model_module": "@jupyter-widgets/base",
          "model_name": "LayoutModel",
          "model_module_version": "1.2.0",
          "state": {
            "_model_module": "@jupyter-widgets/base",
            "_model_module_version": "1.2.0",
            "_model_name": "LayoutModel",
            "_view_count": null,
            "_view_module": "@jupyter-widgets/base",
            "_view_module_version": "1.2.0",
            "_view_name": "LayoutView",
            "align_content": null,
            "align_items": null,
            "align_self": null,
            "border": null,
            "bottom": null,
            "display": null,
            "flex": null,
            "flex_flow": null,
            "grid_area": null,
            "grid_auto_columns": null,
            "grid_auto_flow": null,
            "grid_auto_rows": null,
            "grid_column": null,
            "grid_gap": null,
            "grid_row": null,
            "grid_template_areas": null,
            "grid_template_columns": null,
            "grid_template_rows": null,
            "height": null,
            "justify_content": null,
            "justify_items": null,
            "left": null,
            "margin": null,
            "max_height": null,
            "max_width": null,
            "min_height": null,
            "min_width": null,
            "object_fit": null,
            "object_position": null,
            "order": null,
            "overflow": null,
            "overflow_x": null,
            "overflow_y": null,
            "padding": null,
            "right": null,
            "top": null,
            "visibility": null,
            "width": null
          }
        },
        "a11c7a1ba4d94a6ab62d16ab8086717a": {
          "model_module": "@jupyter-widgets/controls",
          "model_name": "ProgressStyleModel",
          "model_module_version": "1.5.0",
          "state": {
            "_model_module": "@jupyter-widgets/controls",
            "_model_module_version": "1.5.0",
            "_model_name": "ProgressStyleModel",
            "_view_count": null,
            "_view_module": "@jupyter-widgets/base",
            "_view_module_version": "1.2.0",
            "_view_name": "StyleView",
            "bar_color": null,
            "description_width": ""
          }
        },
        "70937650fae04b3382d4d6d18b1d1bc0": {
          "model_module": "@jupyter-widgets/base",
          "model_name": "LayoutModel",
          "model_module_version": "1.2.0",
          "state": {
            "_model_module": "@jupyter-widgets/base",
            "_model_module_version": "1.2.0",
            "_model_name": "LayoutModel",
            "_view_count": null,
            "_view_module": "@jupyter-widgets/base",
            "_view_module_version": "1.2.0",
            "_view_name": "LayoutView",
            "align_content": null,
            "align_items": null,
            "align_self": null,
            "border": null,
            "bottom": null,
            "display": null,
            "flex": null,
            "flex_flow": null,
            "grid_area": null,
            "grid_auto_columns": null,
            "grid_auto_flow": null,
            "grid_auto_rows": null,
            "grid_column": null,
            "grid_gap": null,
            "grid_row": null,
            "grid_template_areas": null,
            "grid_template_columns": null,
            "grid_template_rows": null,
            "height": null,
            "justify_content": null,
            "justify_items": null,
            "left": null,
            "margin": null,
            "max_height": null,
            "max_width": null,
            "min_height": null,
            "min_width": null,
            "object_fit": null,
            "object_position": null,
            "order": null,
            "overflow": null,
            "overflow_x": null,
            "overflow_y": null,
            "padding": null,
            "right": null,
            "top": null,
            "visibility": null,
            "width": null
          }
        },
        "837ed5d9991e4e0291547310b787f1da": {
          "model_module": "@jupyter-widgets/controls",
          "model_name": "DescriptionStyleModel",
          "model_module_version": "1.5.0",
          "state": {
            "_model_module": "@jupyter-widgets/controls",
            "_model_module_version": "1.5.0",
            "_model_name": "DescriptionStyleModel",
            "_view_count": null,
            "_view_module": "@jupyter-widgets/base",
            "_view_module_version": "1.2.0",
            "_view_name": "StyleView",
            "description_width": ""
          }
        }
      }
    }
  },
  "nbformat": 4,
  "nbformat_minor": 0
}